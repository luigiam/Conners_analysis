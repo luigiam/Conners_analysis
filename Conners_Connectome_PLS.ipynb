{
 "cells": [
  {
   "cell_type": "markdown",
   "metadata": {},
   "source": [
    "# Comparison of whole-brain white matter matter connectomes between data-driven groupings of executive function behaviours"
   ]
  },
  {
   "cell_type": "code",
   "execution_count": 2,
   "metadata": {
    "collapsed": false,
    "scrolled": true
   },
   "outputs": [
    {
     "name": "stdout",
     "output_type": "stream",
     "text": [
      "Populating the interactive namespace from numpy and matplotlib\n"
     ]
    }
   ],
   "source": [
    "%pylab inline"
   ]
  },
  {
   "cell_type": "code",
   "execution_count": 16,
   "metadata": {
    "collapsed": true
   },
   "outputs": [],
   "source": [
    "import sys\n",
    "sys.path.append('/home/jb07/joe_python/')"
   ]
  },
  {
   "cell_type": "code",
   "execution_count": 67,
   "metadata": {
    "collapsed": false
   },
   "outputs": [],
   "source": [
    "import bct\n",
    "from CALM_utils import get_imaging_ID\n",
    "import matplotlib.pyplot as plt\n",
    "import networkfunctions\n",
    "import numpy as np\n",
    "import os\n",
    "import pandas as pd\n",
    "import re\n",
    "import seaborn as sns\n",
    "from statsmodels import robust\n",
    "from statsmodels.sandbox.stats.multicomp import multipletests\n",
    "from scipy.stats import ks_2samp, sem, spearmanr, zscore, ttest_ind, ttest_1samp\n",
    "from scipy.spatial import procrustes\n",
    "from sklearn.cross_decomposition import PLSRegression\n",
    "from sklearn.metrics import accuracy_score\n",
    "from sklearn.model_selection import train_test_split\n",
    "from sklearn.preprocessing import scale\n",
    "import statsmodels.api as sm\n",
    "import statsmodels.formula.api as smf\n",
    "from subprocess import call"
   ]
  },
  {
   "cell_type": "code",
   "execution_count": 68,
   "metadata": {
    "collapsed": true
   },
   "outputs": [],
   "source": [
    "from matplotlib import rcParams  \n",
    "rcParams['font.family'] = 'serif'  \n",
    "rcParams['font.serif'] = ['Computer Modern Unicode']  \n",
    "rcParams['text.usetex'] = True  \n",
    "rcParams['axes.labelsize'] = 9  \n",
    "rcParams['xtick.labelsize'] = 9  \n",
    "rcParams['ytick.labelsize'] = 9  \n",
    "rcParams['legend.fontsize'] = 9  \n",
    "mm2inches = 0.039371\n",
    "single_column = 86*mm2inches\n",
    "double_column = 180*mm2inches\n",
    "one_half_column = 140*mm2inches"
   ]
  },
  {
   "cell_type": "code",
   "execution_count": 185,
   "metadata": {
    "collapsed": true
   },
   "outputs": [],
   "source": [
    "in_folder = '/imaging/jb07/CALM/Modularity/connectome/'\n",
    "outfolder = '/imaging/jb07/CALM/Behavioural/Community_Detection/'"
   ]
  },
  {
   "cell_type": "markdown",
   "metadata": {},
   "source": [
    "Loading the data and removing regions that are not of interest"
   ]
  },
  {
   "cell_type": "code",
   "execution_count": 192,
   "metadata": {
    "collapsed": false
   },
   "outputs": [],
   "source": [
    "# Loading the data\n",
    "filename = lambda(subject): in_folder + '_subject_id_' + subject + '/_model_CSA/_threshold_10/calc_matrix/mapflow/_calc_matrix0/' + subject + '_FA_matrix.txt'\n",
    "df = pd.read_csv('/imaging/jb07/CALM/Behavioural/Community_Detection/Behavioural_data_grouped_Apr17.csv')\n",
    "df['MRI.ID'] = [get_imaging_ID(str(int(ID))) for ID in df['ID'].values]\n",
    "df = df.dropna()\n",
    "original_df = df.copy()\n",
    "subject_list = sorted([subject for subject in df['MRI.ID'].values if os.path.isfile(filename(subject))])\n",
    "df = df[df['MRI.ID'].isin(subject_list)]\n",
    "networks = np.rollaxis(np.asarray([np.loadtxt(filename(subject)) for subject in subject_list]), 0, 3)\n",
    "np.place(networks, np.isnan(networks), 0) # replacing nan values\n",
    "\n",
    "# Removing regions that are not of interest\n",
    "aparc_indices = networkfunctions.aparc_indices('/imaging/jb07/CALM/Modularity/connectome/FreeSurfer/CBU150084/parcellation/aparc_expanded.nii.gz')\n",
    "new_networks = list()\n",
    "\n",
    "for counter in range(0,networks.shape[2]):\n",
    "    network = networks[..., counter]\n",
    "    network = network[aparc_indices, ...]\n",
    "    network = network[..., aparc_indices]\n",
    "    new_networks.append(np.squeeze(network))\n",
    "\n",
    "networks = np.rollaxis(np.asarray(new_networks), 0, 3)"
   ]
  },
  {
   "cell_type": "code",
   "execution_count": 187,
   "metadata": {
    "collapsed": false,
    "scrolled": true
   },
   "outputs": [
    {
     "name": "stdout",
     "output_type": "stream",
     "text": [
      "Behavioural sample: mean=113.23, std=25.938\n",
      "MRI sample: mean=117.05, std=27.436\n",
      "Age comparison: t=1.34, p=0.181\n",
      "DoF: 359\n"
     ]
    }
   ],
   "source": [
    "print('Behavioural sample: mean=%.2f, std=%.3f' % (np.mean(original_df['age'].values), np.std(original_df['age'].values)))\n",
    "print('MRI sample: mean=%.2f, std=%.3f' % (np.mean(df['age'].values), np.std(df['age'].values)))\n",
    "print('Age comparison: t=%.2f, p=%.3f' % ttest_ind(df['age'].values, original_df['age'].values))\n",
    "print('DoF: ' + str(len(original_df) + len(df) - 2))"
   ]
  },
  {
   "cell_type": "markdown",
   "metadata": {},
   "source": [
    "Ratio of groups in the MRI sample:"
   ]
  },
  {
   "cell_type": "code",
   "execution_count": 188,
   "metadata": {
    "collapsed": false
   },
   "outputs": [
    {
     "data": {
      "text/plain": [
       "2    0.364865\n",
       "3    0.324324\n",
       "1    0.310811\n",
       "Name: groups, dtype: float64"
      ]
     },
     "execution_count": 188,
     "metadata": {},
     "output_type": "execute_result"
    }
   ],
   "source": [
    "df['groups'].value_counts(normalize=True)"
   ]
  },
  {
   "cell_type": "markdown",
   "metadata": {},
   "source": [
    "Calculating the node degree"
   ]
  },
  {
   "cell_type": "code",
   "execution_count": 189,
   "metadata": {
    "collapsed": false
   },
   "outputs": [],
   "source": [
    "degrees = list()\n",
    "\n",
    "for i in range(0, networks.shape[2]):\n",
    "    degrees.append(bct.degrees_und(bct.threshold_proportional(networks[...,i], 0.9)))\n",
    "\n",
    "degrees = np.asarray(degrees)"
   ]
  },
  {
   "cell_type": "markdown",
   "metadata": {},
   "source": [
    "Creating Boolean vectors for the group comparisons "
   ]
  },
  {
   "cell_type": "code",
   "execution_count": 190,
   "metadata": {
    "collapsed": true
   },
   "outputs": [],
   "source": [
    "df['group1'] = 1*(df['groups'] == 1)\n",
    "df['group2'] = 1*(df['groups'] == 2)\n",
    "df['group3'] = 1*(df['groups'] == 3)\n",
    "\n",
    "x_original = np.asarray(degrees)\n",
    "y_original = df[['group1', 'group2', 'group3']].values"
   ]
  },
  {
   "cell_type": "markdown",
   "metadata": {},
   "source": [
    "## Implementation of PLRS analysis"
   ]
  },
  {
   "cell_type": "code",
   "execution_count": 51,
   "metadata": {
    "collapsed": true
   },
   "outputs": [],
   "source": [
    "def run_PLSR(x_original, y_original):\n",
    "    import numpy as np\n",
    "    from sklearn.cross_decomposition import PLSRegression\n",
    "    from sklearn.metrics import accuracy_score\n",
    "    from sklearn.model_selection import train_test_split\n",
    "    from sklearn.preprocessing import scale\n",
    "    from sklearn import cross_validation\n",
    "\n",
    "    # Model tuning: selecting the number of components\n",
    "    X_train, X_test , y_train, y_test = cross_validation.train_test_split(x_original, y_original, test_size=0.5, random_state=42)\n",
    "    errors = list()\n",
    "    kf_10 = cross_validation.KFold(len(X_test), n_folds=10, shuffle=True, random_state=1)\n",
    "\n",
    "    for number_of_components in np.arange(1,x_original.shape[1]):\n",
    "        pls = PLSRegression(n_components=number_of_components)\n",
    "        fit = pls.fit(scale(X_train), y_train)\n",
    "        mse = cross_validation.cross_val_score(pls, scale(X_train), y_train, cv=kf_10, scoring='neg_mean_squared_error').mean()\n",
    "        errors.append(-mse)\n",
    "\n",
    "    number_of_components = np.arange(1,11)[np.where(errors == np.min(errors))[0][0]]\n",
    "\n",
    "    # Model evaluation: testing the best model\n",
    "    pls = PLSRegression(n_components=number_of_components)\n",
    "    pls.fit(X_train, y_train)\n",
    "    RMSE = -cross_validation.cross_val_score(pls, scale(X_test), y_test, cv=kf_10, scoring='neg_mean_squared_error').mean()\n",
    "    accuracy = accuracy_score(y_test, pls.predict(X_test).round(), normalize=True)\n",
    "\n",
    "    # Comparison to shuffled data\n",
    "    # Calculating the cross-validated score for the original sample\n",
    "    kf_10 = cross_validation.KFold(len(X_test), n_folds=10, shuffle=True, random_state=1)\n",
    "    pls = PLSRegression(n_components=number_of_components)\n",
    "    pls.fit(X_train, y_train)\n",
    "    original_score = -cross_validation.cross_val_score(pls, scale(X_test), y_test, cv=kf_10, scoring='neg_mean_squared_error').mean()\n",
    "\n",
    "    permuted_scores = list()\n",
    "\n",
    "    for i in range(0,500):\n",
    "        X_permuted = X_train[np.random.permutation(np.arange(0, X_train.shape[0])), :]\n",
    "\n",
    "        # Running PLS regression on the random sample\n",
    "        permuted_pls = PLSRegression(n_components=number_of_components)\n",
    "        permuted_pls.fit(scale(X_permuted), y_train)\n",
    "        permuted_scores.append(-cross_validation.cross_val_score(permuted_pls, scale(X_test), y_test, cv=kf_10, scoring='neg_mean_squared_error').mean())\n",
    "\n",
    "    permutation_p = float((np.sum(permuted_scores < original_score) + 1))/(np.shape(permuted_scores)[0] + 1)\n",
    "\n",
    "    print('Number of components: ' + str(number_of_components))\n",
    "    print('RMSE: %.3f' % RMSE)\n",
    "    print('Prediction accuracy: %.3f' % accuracy)\n",
    "    print('Test compared to permuted sample: p=%.3f' % permutation_p)\n",
    "\n",
    "    return pls"
   ]
  },
  {
   "cell_type": "code",
   "execution_count": 191,
   "metadata": {
    "collapsed": false
   },
   "outputs": [
    {
     "name": "stdout",
     "output_type": "stream",
     "text": [
      "Number of components: 1\n",
      "RMSE: 0.302\n",
      "Prediction accuracy: 0.041\n",
      "Test compared to permuted sample: p=1.000\n"
     ]
    }
   ],
   "source": [
    "pls = run_PLSR(x_original, y_original)"
   ]
  },
  {
   "cell_type": "code",
   "execution_count": 161,
   "metadata": {
    "collapsed": false,
    "scrolled": true
   },
   "outputs": [],
   "source": [
    "number_of_components = 3\n",
    "\n",
    "x_scores = list()\n",
    "for i in range(0,1000):\n",
    "    pls = PLSRegression(n_components=number_of_components)\n",
    "    fit = pls.fit(x_original, y_original)\n",
    "    x_scores.append(fit.x_scores_)"
   ]
  },
  {
   "cell_type": "code",
   "execution_count": 162,
   "metadata": {
    "collapsed": false
   },
   "outputs": [
    {
     "name": "stdout",
     "output_type": "stream",
     "text": [
      "   G1 vs G2  G1 vs G3  G2 vs G3\n",
      "0     0.000     0.001     0.062\n",
      "1     0.002     0.007     0.722\n",
      "2     0.006     0.000     0.000\n"
     ]
    }
   ],
   "source": [
    "x_scores = np.mean(np.asarray(x_scores), axis=0)\n",
    "results = pd.DataFrame()\n",
    "\n",
    "for component in range(0, number_of_components):\n",
    "    for comparison in [(1,2), (1,3), (2,3)]:\n",
    "        W, p = ks_2samp(x_scores[np.where(df['groups'] == comparison[0]), component][0], x_scores[np.where(df['groups'] == comparison[1]), component][0])\n",
    "        results.set_value(component, 'G' + str(comparison[0]) + ' vs G' + str(comparison[1]), p)\n",
    "\n",
    "print(results.round(3))"
   ]
  },
  {
   "cell_type": "code",
   "execution_count": 123,
   "metadata": {
    "collapsed": true
   },
   "outputs": [],
   "source": [
    "_,p,_,_ = multipletests(results.values.flatten(), method='bonferroni')\n",
    "counter = 0\n",
    "\n",
    "corrected_results = pd.DataFrame()\n",
    "for component in range(0, number_of_components):\n",
    "    for comparison in [(1,2), (1,3), (2,3)]:\n",
    "        corrected_results.set_value(component, 'G' + str(comparison[0]) + ' vs G' + str(comparison[1]), p[counter])\n",
    "        counter += 1"
   ]
  },
  {
   "cell_type": "code",
   "execution_count": 124,
   "metadata": {
    "collapsed": false
   },
   "outputs": [
    {
     "name": "stdout",
     "output_type": "stream",
     "text": [
      "   G1 vs G2  G1 vs G3  G2 vs G3\n",
      "0     0.000     0.008     0.558\n",
      "1     0.022     0.059     1.000\n",
      "2     0.050     0.000     0.000\n"
     ]
    }
   ],
   "source": [
    "print(corrected_results.round(3))"
   ]
  },
  {
   "cell_type": "code",
   "execution_count": 47,
   "metadata": {
    "collapsed": true
   },
   "outputs": [],
   "source": [
    "mean_loadings = np.mean(np.rollaxis(np.asarray(x_loadings), 0, 3), axis=2)\n",
    "se_loadings = sem(np.rollaxis(np.asarray(x_loadings), 0, 3), axis=2)\n",
    "pls_score = mean_loadings/se_loadings\n",
    "np.savetxt('/imaging/jb07/CALM/Modularity/PLS_scores.txt', pls_score)"
   ]
  },
  {
   "cell_type": "code",
   "execution_count": 48,
   "metadata": {
    "collapsed": false
   },
   "outputs": [],
   "source": [
    "df['score'] = x_scores[:,0]"
   ]
  },
  {
   "cell_type": "code",
   "execution_count": 67,
   "metadata": {
    "collapsed": false
   },
   "outputs": [],
   "source": [
    "df['groups'] = pd.Categorical(df['groups'], categories=[1,2,3], ordered=True)"
   ]
  },
  {
   "cell_type": "code",
   "execution_count": 69,
   "metadata": {
    "collapsed": false
   },
   "outputs": [
    {
     "data": {
      "image/png": "[encoded data removed]",
      "text/plain": [
       "<matplotlib.figure.Figure at 0x7fbe9be10110>"
      ]
     },
     "metadata": {},
     "output_type": "display_data"
    },
    {
     "data": {
      "image/png": "[encoded data removed]",
      "text/plain": [
       "<matplotlib.figure.Figure at 0x7fbe9c01eed0>"
      ]
     },
     "metadata": {},
     "output_type": "display_data"
    },
    {
     "data": {
      "image/png": "[encoded data removed]",
      "text/plain": [
       "<matplotlib.figure.Figure at 0x7fbe9714cc10>"
      ]
     },
     "metadata": {},
     "output_type": "display_data"
    },
    {
     "data": {
      "image/png": "[encoded data removed]",
      "text/plain": [
       "<matplotlib.figure.Figure at 0x7fbe970b2210>"
      ]
     },
     "metadata": {},
     "output_type": "display_data"
    },
    {
     "data": {
      "image/png": "[encoded data removed]",
      "text/plain": [
       "<matplotlib.figure.Figure at 0x7fbe971c9a50>"
      ]
     },
     "metadata": {},
     "output_type": "display_data"
    }
   ],
   "source": [
    "for i in np.arange(0, number_of_components):\n",
    "    sns.set_style(\"whitegrid\")\n",
    "    sns.set_style({'axes.grid': False,\n",
    "                   'font.family': [u'serif'],\n",
    "                   'font.sans-serif': [u'Computer Modern Unicode'],})\n",
    "\n",
    "    fig = plt.figure(figsize=(30*mm2inches, 50*mm2inches), dpi=300, tight_layout=True)\n",
    "    colours = ['#40E0D0', '#FFD700', '#b22222']\n",
    "    df['score'] = x_scores[:,i]\n",
    "    sns.boxplot(x='groups', y='score', data=df,  palette=colours, width=0.5)\n",
    "    #sns.stripplot(df['groups'], x_scores[:,i], color='k', size=2, alpha=0.3, jitter=True)\n",
    "    plt.xlabel(' ')\n",
    "    plt.ylabel(' ')\n",
    "    ax = fig.gca()\n",
    "    ax.spines['top'].set_visible(False)\n",
    "    ax.spines['bottom'].set_visible(False)\n",
    "    ax.spines['right'].set_visible(False)\n",
    "    ax.set_xticklabels([])\n",
    "    ax.xaxis.set_ticks_position('bottom')\n",
    "    ax.yaxis.set_ticks_position('left')\n",
    "    plt.savefig('/imaging/jb07/CALM/Modularity/PLS_plots/PLS_' + str(i) + '_boxplot.png', dpi=600)"
   ]
  },
  {
   "cell_type": "code",
   "execution_count": 144,
   "metadata": {
    "collapsed": false
   },
   "outputs": [],
   "source": [
    "labels = pd.read_csv('/imaging/jb07/CALM/Modularity/labels.txt', header=None)[0].values\n",
    "pls_scores[np.abs(pls_scores)/np.max(pls_scores) < 0.8] = 0\n",
    "results = pd.DataFrame()\n",
    "results['PLS 1'] = pls_scores[0:14, 0]\n",
    "results['PLS 2'] = pls_scores[0:14, 1]\n",
    "results['PLS 3'] = pls_scores[0:14, 2]\n",
    "results.index = labels[0:14]"
   ]
  },
  {
   "cell_type": "code",
   "execution_count": 145,
   "metadata": {
    "collapsed": false
   },
   "outputs": [
    {
     "name": "stdout",
     "output_type": "stream",
     "text": [
      "\\begin{tabular}{lrrr}\n",
      "\\toprule\n",
      "{} &  PLS 1 &  PLS 2 &  PLS 3 \\\\\n",
      "\\midrule\n",
      "lh-accumbens   &      0 &      0 &      0 \\\\\n",
      "lh-amygdala    &      0 &      0 &      0 \\\\\n",
      "lh-caudate     &      0 &      0 &      0 \\\\\n",
      "lh-ippocampus  &      0 &      0 &      0 \\\\\n",
      "lh-pallidum    &      0 &      0 &      0 \\\\\n",
      "lh-putamen     &      0 &      0 &      0 \\\\\n",
      "lh-thalamus    &      0 &      0 &      0 \\\\\n",
      "rh-accumbens   &      0 &      0 &      0 \\\\\n",
      "rh-amygdala    &      0 &      0 &      0 \\\\\n",
      "rh-caudate     &      0 &      0 &      0 \\\\\n",
      "rh-hippocampus &      0 &      0 &      0 \\\\\n",
      "rh-pallidum    &      0 &      0 &     35 \\\\\n",
      "rh-putamen     &      0 &      0 &     37 \\\\\n",
      "rh-thalamus    &      0 &      0 &      0 \\\\\n",
      "\\bottomrule\n",
      "\\end{tabular}\n",
      "\n"
     ]
    }
   ],
   "source": [
    "print(results.round().sort_index().to_latex())"
   ]
  },
  {
   "cell_type": "markdown",
   "metadata": {},
   "source": [
    "# Supplementary analyses"
   ]
  },
  {
   "cell_type": "markdown",
   "metadata": {
    "collapsed": true
   },
   "source": [
    "## 1. Repeating analysis with GFA network"
   ]
  },
  {
   "cell_type": "markdown",
   "metadata": {},
   "source": [
    "To check the influence of the weight definition of the network, the analysis is repeated with GFA-weighted networks."
   ]
  },
  {
   "cell_type": "code",
   "execution_count": 28,
   "metadata": {
    "collapsed": false
   },
   "outputs": [],
   "source": [
    "for connection_weight in ['FA', 'GFA']:\n",
    "    \n",
    "    # Loading the data\n",
    "    if connection_weight == 'FA':\n",
    "        filename = lambda(subject): in_folder + '_subject_id_' + subject + '/_model_CSA/_threshold_10/calc_matrix/mapflow/_calc_matrix0/' + subject + '_FA_matrix.txt'\n",
    "    if connection_weight == 'GFA':\n",
    "        filename = lambda(subject): in_folder + '_subject_id_' + subject + '/_model_CSA/_threshold_10/calc_matrix/mapflow/_calc_matrix2/' + subject + '_dwi_GFA_matrix.txt'\n",
    "\n",
    "    df = pd.read_csv('/imaging/jb07/CALM/Behavioural/Community_Detection/Behavioural_data_grouped_Jan17.csv')\n",
    "    df['MRI.ID'] = [get_imaging_ID(str(ID)) for ID in df['ID'].values]\n",
    "    df = df.dropna()\n",
    "    subject_list = sorted([subject for subject in df['MRI.ID'].values if os.path.isfile(filename(subject))])\n",
    "    df = df[df['MRI.ID'].isin(subject_list)]\n",
    "    networks = np.rollaxis(np.asarray([np.loadtxt(filename(subject)) for subject in subject_list]), 0, 3)\n",
    "    np.place(networks, np.isnan(networks), 0) # replacing nan values\n",
    "\n",
    "    # Removing regions that are not of interest\n",
    "    aparc_indices = networkfunctions.aparc_indices('/imaging/jb07/CALM/Modularity/connectome/FreeSurfer/CBU150084/parcellation/aparc_expanded.nii.gz')\n",
    "    new_networks = list()\n",
    "\n",
    "    for counter in range(0,networks.shape[2]):\n",
    "        network = networks[..., counter]\n",
    "        network = network[aparc_indices, ...]\n",
    "        network = network[..., aparc_indices]\n",
    "        new_networks.append(np.squeeze(network))\n",
    "\n",
    "    networks = np.rollaxis(np.asarray(new_networks), 0, 3)\n",
    "    \n",
    "    if connection_weight == 'FA':\n",
    "        FA_networks = networks.copy()\n",
    "    if connection_weight == 'GFA':\n",
    "        GFA_networks = networks.copy()"
   ]
  },
  {
   "cell_type": "code",
   "execution_count": 53,
   "metadata": {
    "collapsed": false
   },
   "outputs": [],
   "source": [
    "differences = list()\n",
    "\n",
    "for density in np.arange(0.75, 0.95, 0.01):\n",
    "    for connection_weight in ['FA', 'GFA']:\n",
    "        degrees = list()\n",
    "        \n",
    "        if connection_weight == 'FA':\n",
    "            for i in range(0, networks.shape[2]):\n",
    "                degrees.append(bct.degrees_und(bct.threshold_proportional(FA_networks[...,i], 0.9)))\n",
    "        if connection_weight == 'GFA':\n",
    "            for i in range(0, networks.shape[2]):\n",
    "                degrees.append(bct.degrees_und(bct.threshold_proportional(GFA_networks[...,i], 0.9)))\n",
    "                \n",
    "        degrees = np.asarray(degrees)\n",
    "\n",
    "        if connection_weight == 'FA':\n",
    "            FA_degrees = degrees.copy()\n",
    "        if connection_weight == 'GFA':\n",
    "            GFA_degrees = degrees.copy()\n",
    "\n",
    "    pvals = list()\n",
    "\n",
    "    for i in range(0, FA_degrees.shape[1]):\n",
    "        stat, p = ks_2samp(FA_degrees[:, i], GFA_degrees[:, i])\n",
    "        pvals.append(p)\n",
    "\n",
    "    differences.append(np.sum(np.asarray(pvals) < 0.05))"
   ]
  },
  {
   "cell_type": "code",
   "execution_count": 54,
   "metadata": {
    "collapsed": false
   },
   "outputs": [
    {
     "data": {
      "text/plain": [
       "<matplotlib.text.Text at 0x7facbad1a750>"
      ]
     },
     "execution_count": 54,
     "metadata": {},
     "output_type": "execute_result"
    },
    {
     "data": {
      "image/png": "[encoded data removed]",
      "text/plain": [
       "<matplotlib.figure.Figure at 0x7facb5ca7f10>"
      ]
     },
     "metadata": {},
     "output_type": "display_data"
    }
   ],
   "source": [
    "plt.plot(np.arange(0.75, 0.95, 0.01), differences)\n",
    "plt.xlabel('Density threshold')\n",
    "plt.ylabel('Number of significant differences')"
   ]
  },
  {
   "cell_type": "markdown",
   "metadata": {},
   "source": [
    "**Conclusion**: The node degree and thereby the PLS results are identical for FA- and GFA-weighted networks"
   ]
  },
  {
   "cell_type": "markdown",
   "metadata": {},
   "source": [
    "## 2. The influence of the density threshold"
   ]
  },
  {
   "cell_type": "code",
   "execution_count": 67,
   "metadata": {
    "collapsed": false
   },
   "outputs": [],
   "source": [
    "x_results = list()\n",
    "\n",
    "for density in np.arange(0.75, 0.95, 0.01):\n",
    "    degrees = list()\n",
    "\n",
    "    for i in range(0, networks.shape[2]):\n",
    "        degrees.append(bct.degrees_und(bct.threshold_proportional(networks[...,i], 0.9)))\n",
    "\n",
    "    degrees = np.asarray(degrees)\n",
    "\n",
    "    df['group1'] = 1*(df['groups'] == 1)\n",
    "    df['group2'] = 1*(df['groups'] == 2)\n",
    "    df['group3'] = 1*(df['groups'] == 3)\n",
    "\n",
    "    x_original = np.asarray(degrees)\n",
    "    y_original = df[['group1', 'group2', 'group3']].values\n",
    "\n",
    "    # Running PLS regression on the random sample\n",
    "    x_scores = list()\n",
    "    for i in range(0,1000):\n",
    "        pls = PLSRegression(n_components=5)\n",
    "        fit = pls.fit(x_original, y_original)\n",
    "        x_scores.append(fit.x_scores_)\n",
    "\n",
    "    x_results.append(np.mean(np.asarray(x_scores), 0))"
   ]
  },
  {
   "cell_type": "code",
   "execution_count": 71,
   "metadata": {
    "collapsed": true
   },
   "outputs": [],
   "source": [
    "import statsmodels.api as sm\n",
    "from statsmodels.formula.api import ols"
   ]
  },
  {
   "cell_type": "markdown",
   "metadata": {},
   "source": [
    "Constructing a dataframe with variables for density and PLS component"
   ]
  },
  {
   "cell_type": "code",
   "execution_count": 160,
   "metadata": {
    "collapsed": false
   },
   "outputs": [],
   "source": [
    "x_results = np.rollaxis(x_results, 0, 3)\n",
    "df = pd.melt(pd.DataFrame(x_results[:,0,:], columns=[density for density in np.arange(0.75, 0.95, 0.01)]))\n",
    "df.columns = ['density', 'PLS0']\n",
    "\n",
    "for i in range(1, x_results.shape[1]):\n",
    "    df['PLS' + str(i)] = pd.melt(pd.DataFrame(x_results[:,i,:], columns=[density for density in np.arange(0.75, 0.95, 0.01)]))['value']\n",
    "\n",
    "df = pd.melt(df, id_vars=['density'])\n",
    "df.columns = ['density', 'component', 'score']"
   ]
  },
  {
   "cell_type": "code",
   "execution_count": 162,
   "metadata": {
    "collapsed": false
   },
   "outputs": [
    {
     "data": {
      "text/html": [
       "<table class=\"simpletable\">\n",
       "<caption>OLS Regression Results</caption>\n",
       "<tr>\n",
       "  <th>Dep. Variable:</th>          <td>score</td>      <th>  R-squared:         </th> <td>   0.000</td> \n",
       "</tr>\n",
       "<tr>\n",
       "  <th>Model:</th>                   <td>OLS</td>       <th>  Adj. R-squared:    </th> <td>  -0.001</td> \n",
       "</tr>\n",
       "<tr>\n",
       "  <th>Method:</th>             <td>Least Squares</td>  <th>  F-statistic:       </th> <td>1.603e-12</td>\n",
       "</tr>\n",
       "<tr>\n",
       "  <th>Date:</th>             <td>Fri, 17 Mar 2017</td> <th>  Prob (F-statistic):</th>  <td>  1.00</td>  \n",
       "</tr>\n",
       "<tr>\n",
       "  <th>Time:</th>                 <td>10:11:17</td>     <th>  Log-Likelihood:    </th> <td> -27841.</td> \n",
       "</tr>\n",
       "<tr>\n",
       "  <th>No. Observations:</th>      <td> 14800</td>      <th>  AIC:               </th> <td>5.570e+04</td>\n",
       "</tr>\n",
       "<tr>\n",
       "  <th>Df Residuals:</th>          <td> 14790</td>      <th>  BIC:               </th> <td>5.578e+04</td>\n",
       "</tr>\n",
       "<tr>\n",
       "  <th>Df Model:</th>              <td>     9</td>      <th>                     </th>     <td> </td>    \n",
       "</tr>\n",
       "<tr>\n",
       "  <th>Covariance Type:</th>      <td>nonrobust</td>    <th>                     </th>     <td> </td>    \n",
       "</tr>\n",
       "</table>\n",
       "<table class=\"simpletable\">\n",
       "<tr>\n",
       "              <td></td>                 <th>coef</th>     <th>std err</th>      <th>t</th>      <th>P>|t|</th>  <th>[0.025</th>    <th>0.975]</th>  \n",
       "</tr>\n",
       "<tr>\n",
       "  <th>Intercept</th>                 <td>-6.138e-13</td> <td>    0.429</td> <td>-1.43e-12</td> <td> 1.000</td> <td>   -0.840</td> <td>    0.840</td>\n",
       "</tr>\n",
       "<tr>\n",
       "  <th>component[T.PLS1]</th>         <td> 6.387e-13</td> <td>    0.606</td> <td> 1.05e-12</td> <td> 1.000</td> <td>   -1.189</td> <td>    1.189</td>\n",
       "</tr>\n",
       "<tr>\n",
       "  <th>component[T.PLS2]</th>         <td> 7.654e-13</td> <td>    0.606</td> <td> 1.26e-12</td> <td> 1.000</td> <td>   -1.189</td> <td>    1.189</td>\n",
       "</tr>\n",
       "<tr>\n",
       "  <th>component[T.PLS3]</th>         <td>  1.27e-12</td> <td>    0.606</td> <td> 2.09e-12</td> <td> 1.000</td> <td>   -1.189</td> <td>    1.189</td>\n",
       "</tr>\n",
       "<tr>\n",
       "  <th>component[T.PLS4]</th>         <td>  3.79e-13</td> <td>    0.606</td> <td> 6.25e-13</td> <td> 1.000</td> <td>   -1.189</td> <td>    1.189</td>\n",
       "</tr>\n",
       "<tr>\n",
       "  <th>density</th>                   <td> 7.213e-13</td> <td>    0.506</td> <td> 1.42e-12</td> <td> 1.000</td> <td>   -0.992</td> <td>    0.992</td>\n",
       "</tr>\n",
       "<tr>\n",
       "  <th>density:component[T.PLS1]</th> <td>-7.516e-13</td> <td>    0.716</td> <td>-1.05e-12</td> <td> 1.000</td> <td>   -1.403</td> <td>    1.403</td>\n",
       "</tr>\n",
       "<tr>\n",
       "  <th>density:component[T.PLS2]</th> <td>-9.049e-13</td> <td>    0.716</td> <td>-1.26e-12</td> <td> 1.000</td> <td>   -1.403</td> <td>    1.403</td>\n",
       "</tr>\n",
       "<tr>\n",
       "  <th>density:component[T.PLS3]</th> <td>-1.497e-12</td> <td>    0.716</td> <td>-2.09e-12</td> <td> 1.000</td> <td>   -1.403</td> <td>    1.403</td>\n",
       "</tr>\n",
       "<tr>\n",
       "  <th>density:component[T.PLS4]</th> <td>-4.451e-13</td> <td>    0.716</td> <td>-6.22e-13</td> <td> 1.000</td> <td>   -1.403</td> <td>    1.403</td>\n",
       "</tr>\n",
       "</table>\n",
       "<table class=\"simpletable\">\n",
       "<tr>\n",
       "  <th>Omnibus:</th>       <td>216.073</td> <th>  Durbin-Watson:     </th> <td>   2.028</td>\n",
       "</tr>\n",
       "<tr>\n",
       "  <th>Prob(Omnibus):</th> <td> 0.000</td>  <th>  Jarque-Bera (JB):  </th> <td> 377.559</td>\n",
       "</tr>\n",
       "<tr>\n",
       "  <th>Skew:</th>          <td>-0.097</td>  <th>  Prob(JB):          </th> <td>1.03e-82</td>\n",
       "</tr>\n",
       "<tr>\n",
       "  <th>Kurtosis:</th>      <td> 3.758</td>  <th>  Cond. No.          </th> <td>    173.</td>\n",
       "</tr>\n",
       "</table>"
      ],
      "text/plain": [
       "<class 'statsmodels.iolib.summary.Summary'>\n",
       "\"\"\"\n",
       "                            OLS Regression Results                            \n",
       "==============================================================================\n",
       "Dep. Variable:                  score   R-squared:                       0.000\n",
       "Model:                            OLS   Adj. R-squared:                 -0.001\n",
       "Method:                 Least Squares   F-statistic:                 1.603e-12\n",
       "Date:                Fri, 17 Mar 2017   Prob (F-statistic):               1.00\n",
       "Time:                        10:11:17   Log-Likelihood:                -27841.\n",
       "No. Observations:               14800   AIC:                         5.570e+04\n",
       "Df Residuals:                   14790   BIC:                         5.578e+04\n",
       "Df Model:                           9                                         \n",
       "Covariance Type:            nonrobust                                         \n",
       "=============================================================================================\n",
       "                                coef    std err          t      P>|t|      [0.025      0.975]\n",
       "---------------------------------------------------------------------------------------------\n",
       "Intercept                 -6.138e-13      0.429  -1.43e-12      1.000      -0.840       0.840\n",
       "component[T.PLS1]          6.387e-13      0.606   1.05e-12      1.000      -1.189       1.189\n",
       "component[T.PLS2]          7.654e-13      0.606   1.26e-12      1.000      -1.189       1.189\n",
       "component[T.PLS3]           1.27e-12      0.606   2.09e-12      1.000      -1.189       1.189\n",
       "component[T.PLS4]           3.79e-13      0.606   6.25e-13      1.000      -1.189       1.189\n",
       "density                    7.213e-13      0.506   1.42e-12      1.000      -0.992       0.992\n",
       "density:component[T.PLS1] -7.516e-13      0.716  -1.05e-12      1.000      -1.403       1.403\n",
       "density:component[T.PLS2] -9.049e-13      0.716  -1.26e-12      1.000      -1.403       1.403\n",
       "density:component[T.PLS3] -1.497e-12      0.716  -2.09e-12      1.000      -1.403       1.403\n",
       "density:component[T.PLS4] -4.451e-13      0.716  -6.22e-13      1.000      -1.403       1.403\n",
       "==============================================================================\n",
       "Omnibus:                      216.073   Durbin-Watson:                   2.028\n",
       "Prob(Omnibus):                  0.000   Jarque-Bera (JB):              377.559\n",
       "Skew:                          -0.097   Prob(JB):                     1.03e-82\n",
       "Kurtosis:                       3.758   Cond. No.                         173.\n",
       "==============================================================================\n",
       "\n",
       "Warnings:\n",
       "[1] Standard Errors assume that the covariance matrix of the errors is correctly specified.\n",
       "\"\"\""
      ]
     },
     "execution_count": 162,
     "metadata": {},
     "output_type": "execute_result"
    }
   ],
   "source": [
    "ols('score ~ density + component + density*component', data=df).fit().summary()"
   ]
  },
  {
   "cell_type": "code",
   "execution_count": null,
   "metadata": {
    "collapsed": true
   },
   "outputs": [],
   "source": []
  }
 ],
 "metadata": {
  "kernelspec": {
   "display_name": "Python 2",
   "language": "python",
   "name": "python2"
  },
  "language_info": {
   "codemirror_mode": {
    "name": "ipython",
    "version": 2
   },
   "file_extension": ".py",
   "mimetype": "text/x-python",
   "name": "python",
   "nbconvert_exporter": "python",
   "pygments_lexer": "ipython2",
   "version": "2.7.12"
  }
 },
 "nbformat": 4,
 "nbformat_minor": 0
}
