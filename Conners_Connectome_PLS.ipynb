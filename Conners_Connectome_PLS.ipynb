{
 "cells": [
  {
   "cell_type": "code",
   "execution_count": 1,
   "metadata": {
    "collapsed": false
   },
   "outputs": [
    {
     "name": "stdout",
     "output_type": "stream",
     "text": [
      "Populating the interactive namespace from numpy and matplotlib\n"
     ]
    }
   ],
   "source": [
    "%pylab inline"
   ]
  },
  {
   "cell_type": "code",
   "execution_count": 2,
   "metadata": {
    "collapsed": true
   },
   "outputs": [],
   "source": [
    "import bct\n",
    "from CALM_utils import get_imaging_ID\n",
    "import matplotlib.pyplot as plt\n",
    "import networkfunctions\n",
    "import numpy as np\n",
    "import os\n",
    "import pandas as pd\n",
    "import re\n",
    "import seaborn as sns\n",
    "from statsmodels import robust\n",
    "from statsmodels.sandbox.stats.multicomp import multipletests\n",
    "from scipy.stats import ks_2samp, sem, spearmanr, zscore, ttest_ind, ttest_1samp\n",
    "from sklearn.cross_decomposition import PLSRegression\n",
    "from sklearn.model_selection import train_test_split\n",
    "import statsmodels.api as sm\n",
    "import statsmodels.formula.api as smf\n",
    "from subprocess import call"
   ]
  },
  {
   "cell_type": "code",
   "execution_count": 3,
   "metadata": {
    "collapsed": true
   },
   "outputs": [],
   "source": [
    "from matplotlib import rcParams  \n",
    "rcParams['font.family'] = 'serif'  \n",
    "rcParams['font.serif'] = ['Computer Modern Unicode']  \n",
    "rcParams['text.usetex'] = True  \n",
    "rcParams['axes.labelsize'] = 9  \n",
    "rcParams['xtick.labelsize'] = 9  \n",
    "rcParams['ytick.labelsize'] = 9  \n",
    "rcParams['legend.fontsize'] = 9  \n",
    "mm2inches = 0.039371\n",
    "single_column = 86*mm2inches\n",
    "double_column = 180*mm2inches\n",
    "one_half_column = 140*mm2inches"
   ]
  },
  {
   "cell_type": "code",
   "execution_count": 9,
   "metadata": {
    "collapsed": true
   },
   "outputs": [],
   "source": [
    "in_folder = '/imaging/jb07/CALM/Modularity/connectome/'"
   ]
  },
  {
   "cell_type": "code",
   "execution_count": 8,
   "metadata": {
    "collapsed": false
   },
   "outputs": [
    {
     "ename": "IOError",
     "evalue": "[Errno 2] No such file or directory: '/home/jb07/Desktop/DK_coordinates.txt'",
     "output_type": "error",
     "traceback": [
      "\u001b[1;31m---------------------------------------------------------------------------\u001b[0m",
      "\u001b[1;31mIOError\u001b[0m                                   Traceback (most recent call last)",
      "\u001b[1;32m<ipython-input-8-5d5302c0dfc5>\u001b[0m in \u001b[0;36m<module>\u001b[1;34m()\u001b[0m\n\u001b[0;32m      1\u001b[0m \u001b[0maparc_indices\u001b[0m \u001b[1;33m=\u001b[0m \u001b[0mnetworkfunctions\u001b[0m\u001b[1;33m.\u001b[0m\u001b[0maparc_indices\u001b[0m\u001b[1;33m(\u001b[0m\u001b[1;34m'/imaging/jb07/CALM/Modularity/connectome/FreeSurfer/CBU150084/parcellation/aparc.nii.gz'\u001b[0m\u001b[1;33m)\u001b[0m\u001b[1;33m\u001b[0m\u001b[0m\n\u001b[1;32m----> 2\u001b[1;33m \u001b[0mcoordinates\u001b[0m \u001b[1;33m=\u001b[0m \u001b[0mnp\u001b[0m\u001b[1;33m.\u001b[0m\u001b[0mloadtxt\u001b[0m\u001b[1;33m(\u001b[0m\u001b[1;34m'/home/jb07/Desktop/DK_coordinates.txt'\u001b[0m\u001b[1;33m)\u001b[0m\u001b[1;33m\u001b[0m\u001b[0m\n\u001b[0m\u001b[0;32m      3\u001b[0m \u001b[0mcoordinates\u001b[0m \u001b[1;33m=\u001b[0m \u001b[0mcoordinates\u001b[0m\u001b[1;33m[\u001b[0m\u001b[0maparc_indices\u001b[0m\u001b[1;33m]\u001b[0m\u001b[1;33m\u001b[0m\u001b[0m\n\u001b[0;32m      4\u001b[0m \u001b[0mcoordinates_df\u001b[0m \u001b[1;33m=\u001b[0m \u001b[0mpd\u001b[0m\u001b[1;33m.\u001b[0m\u001b[0mDataFrame\u001b[0m\u001b[1;33m(\u001b[0m\u001b[1;33m)\u001b[0m\u001b[1;33m\u001b[0m\u001b[0m\n\u001b[0;32m      5\u001b[0m \u001b[0mcoordinates_df\u001b[0m\u001b[1;33m[\u001b[0m\u001b[1;34m'x'\u001b[0m\u001b[1;33m]\u001b[0m \u001b[1;33m=\u001b[0m \u001b[0mcoordinates\u001b[0m\u001b[1;33m[\u001b[0m\u001b[1;33m.\u001b[0m\u001b[1;33m.\u001b[0m\u001b[1;33m.\u001b[0m\u001b[1;33m,\u001b[0m \u001b[1;36m0\u001b[0m\u001b[1;33m]\u001b[0m\u001b[1;33m\u001b[0m\u001b[0m\n",
      "\u001b[1;32m/home/jb07/python_modules/numpy/lib/npyio.pyc\u001b[0m in \u001b[0;36mloadtxt\u001b[1;34m(fname, dtype, comments, delimiter, converters, skiprows, usecols, unpack, ndmin)\u001b[0m\n\u001b[0;32m    801\u001b[0m                 \u001b[0mfh\u001b[0m \u001b[1;33m=\u001b[0m \u001b[0miter\u001b[0m\u001b[1;33m(\u001b[0m\u001b[0mbz2\u001b[0m\u001b[1;33m.\u001b[0m\u001b[0mBZ2File\u001b[0m\u001b[1;33m(\u001b[0m\u001b[0mfname\u001b[0m\u001b[1;33m)\u001b[0m\u001b[1;33m)\u001b[0m\u001b[1;33m\u001b[0m\u001b[0m\n\u001b[0;32m    802\u001b[0m             \u001b[1;32melif\u001b[0m \u001b[0msys\u001b[0m\u001b[1;33m.\u001b[0m\u001b[0mversion_info\u001b[0m\u001b[1;33m[\u001b[0m\u001b[1;36m0\u001b[0m\u001b[1;33m]\u001b[0m \u001b[1;33m==\u001b[0m \u001b[1;36m2\u001b[0m\u001b[1;33m:\u001b[0m\u001b[1;33m\u001b[0m\u001b[0m\n\u001b[1;32m--> 803\u001b[1;33m                 \u001b[0mfh\u001b[0m \u001b[1;33m=\u001b[0m \u001b[0miter\u001b[0m\u001b[1;33m(\u001b[0m\u001b[0mopen\u001b[0m\u001b[1;33m(\u001b[0m\u001b[0mfname\u001b[0m\u001b[1;33m,\u001b[0m \u001b[1;34m'U'\u001b[0m\u001b[1;33m)\u001b[0m\u001b[1;33m)\u001b[0m\u001b[1;33m\u001b[0m\u001b[0m\n\u001b[0m\u001b[0;32m    804\u001b[0m             \u001b[1;32melse\u001b[0m\u001b[1;33m:\u001b[0m\u001b[1;33m\u001b[0m\u001b[0m\n\u001b[0;32m    805\u001b[0m                 \u001b[0mfh\u001b[0m \u001b[1;33m=\u001b[0m \u001b[0miter\u001b[0m\u001b[1;33m(\u001b[0m\u001b[0mopen\u001b[0m\u001b[1;33m(\u001b[0m\u001b[0mfname\u001b[0m\u001b[1;33m)\u001b[0m\u001b[1;33m)\u001b[0m\u001b[1;33m\u001b[0m\u001b[0m\n",
      "\u001b[1;31mIOError\u001b[0m: [Errno 2] No such file or directory: '/home/jb07/Desktop/DK_coordinates.txt'"
     ]
    }
   ],
   "source": [
    "aparc_indices = networkfunctions.aparc_indices('/imaging/jb07/CALM/Modularity/connectome/FreeSurfer/CBU150084/parcellation/aparc.nii.gz') \n",
    "coordinates = np.loadtxt('/home/jb07/Desktop/DK_coordinates.txt')\n",
    "coordinates = coordinates[aparc_indices]\n",
    "coordinates_df = pd.DataFrame()\n",
    "coordinates_df['x'] = coordinates[..., 0]\n",
    "coordinates_df['y'] = coordinates[..., 1]\n",
    "coordinates_df['z'] = coordinates[..., 2]\n",
    "coordinates_df['colour'] = np.ones(coordinates.shape[0])\n",
    "coordinates_df['size'] = np.ones(coordinates.shape[0])\n",
    "coordinates_df['labels'] = [line.split()[0] for line in open('/home/jb07/Desktop/labels.txt', 'r')]\n",
    "coordinates_df.to_csv('/home/jb07/Desktop/DK_nodes.node', header=False, index=False, sep=' ')"
   ]
  },
  {
   "cell_type": "markdown",
   "metadata": {},
   "source": [
    "Loading the data and removing regions that are not of interest"
   ]
  },
  {
   "cell_type": "code",
   "execution_count": 10,
   "metadata": {
    "collapsed": false
   },
   "outputs": [],
   "source": [
    "# Loading the data\n",
    "filename = lambda(subject): in_folder + '_subject_id_' + subject + '/_model_CSA/_threshold_10/calc_matrix/mapflow/_calc_matrix0/' + subject + '_FA_matrix.txt'\n",
    "df = pd.read_csv('/imaging/jb07/CALM/Behavioural/Community_Detection/Behavioural_data_grouped_Apr17.csv')\n",
    "df['MRI.ID'] = [get_imaging_ID(str(int(ID))) for ID in df['ID'].values]\n",
    "df = df.dropna()\n",
    "original_df = df.copy()\n",
    "subject_list = sorted([subject for subject in df['MRI.ID'].values if os.path.isfile(filename(subject))])\n",
    "df = df[df['MRI.ID'].isin(subject_list)]\n",
    "networks = np.rollaxis(np.asarray([np.loadtxt(filename(subject)) for subject in subject_list]), 0, 3)\n",
    "np.place(networks, np.isnan(networks), 0) # replacing nan values\n",
    "\n",
    "# Removing regions that are not of interest\n",
    "aparc_indices = networkfunctions.aparc_indices('/imaging/jb07/CALM/Modularity/connectome/FreeSurfer/CBU150084/parcellation/aparc_expanded.nii.gz')\n",
    "new_networks = list()\n",
    "\n",
    "for counter in range(0,networks.shape[2]):\n",
    "    network = networks[..., counter]\n",
    "    network = network[aparc_indices, ...]\n",
    "    network = network[..., aparc_indices]\n",
    "    new_networks.append(np.squeeze(network))\n",
    "\n",
    "networks = np.rollaxis(np.asarray(new_networks), 0, 3)"
   ]
  },
  {
   "cell_type": "code",
   "execution_count": 11,
   "metadata": {
    "collapsed": false,
    "scrolled": true
   },
   "outputs": [
    {
     "name": "stdout",
     "output_type": "stream",
     "text": [
      "Behavioural sample: mean=113.23, std=25.938\n",
      "MRI sample: mean=117.05, std=27.436\n",
      "Age comparison: t=1.34, p=0.181\n",
      "DoF: 359\n"
     ]
    }
   ],
   "source": [
    "print('Behavioural sample: mean=%.2f, std=%.3f' % (np.mean(original_df['age'].values), np.std(original_df['age'].values)))\n",
    "print('MRI sample: mean=%.2f, std=%.3f' % (np.mean(df['age'].values), np.std(df['age'].values)))\n",
    "print('Age comparison: t=%.2f, p=%.3f' % ttest_ind(df['age'].values, original_df['age'].values))\n",
    "print('DoF: ' + str(len(original_df) + len(df) - 2))"
   ]
  },
  {
   "cell_type": "markdown",
   "metadata": {},
   "source": [
    "Ratio of groups in the MRI sample:"
   ]
  },
  {
   "cell_type": "code",
   "execution_count": 12,
   "metadata": {
    "collapsed": false
   },
   "outputs": [
    {
     "data": {
      "text/plain": [
       "2    0.371622\n",
       "1    0.331081\n",
       "3    0.297297\n",
       "Name: groups, dtype: float64"
      ]
     },
     "execution_count": 12,
     "metadata": {},
     "output_type": "execute_result"
    }
   ],
   "source": [
    "df['groups'].value_counts(normalize=True)"
   ]
  },
  {
   "cell_type": "markdown",
   "metadata": {},
   "source": [
    "Calculating the node degree"
   ]
  },
  {
   "cell_type": "code",
   "execution_count": 13,
   "metadata": {
    "collapsed": false
   },
   "outputs": [
    {
     "name": "stderr",
     "output_type": "stream",
     "text": [
      "/home/jb07/python_modules/bct/bct.py:3897: VisibleDeprecationWarning: using a non-integer number instead of an integer will result in an error in the future\n",
      "  W[(ind[0][I][en:],ind[1][I][en:])]=0\t# apply threshold\n"
     ]
    }
   ],
   "source": [
    "degrees = list()\n",
    "\n",
    "for i in range(0, networks.shape[2]):\n",
    "    degrees.append(bct.degrees_und(bct.threshold_proportional(networks[...,i], 0.9)))\n",
    "\n",
    "degrees = np.asarray(degrees)"
   ]
  },
  {
   "cell_type": "markdown",
   "metadata": {},
   "source": [
    "Creating Boolean vectors for the group comparisons "
   ]
  },
  {
   "cell_type": "code",
   "execution_count": 14,
   "metadata": {
    "collapsed": true
   },
   "outputs": [],
   "source": [
    "df['group1'] = 1*(df['groups'] == 1)\n",
    "df['group2'] = 1*(df['groups'] == 2)\n",
    "df['group3'] = 1*(df['groups'] == 3)\n",
    "\n",
    "x_original = np.asarray(degrees)\n",
    "y_original = df[['group1', 'group2', 'group3']].values"
   ]
  },
  {
   "cell_type": "markdown",
   "metadata": {},
   "source": [
    "### Determine if the models provide a good fit\n",
    "In order to assess the goodness of fit, a null-distribution is built by randomly reordering the rows. This actual results are then compared to the null distribution."
   ]
  },
  {
   "cell_type": "code",
   "execution_count": 17,
   "metadata": {
    "collapsed": false
   },
   "outputs": [
    {
     "name": "stdout",
     "output_type": "stream",
     "text": [
      "Test compared to permuted sample: t=-13.30, p=0.000\n"
     ]
    },
    {
     "data": {
      "image/png": "[encoded data removed]",
      "text/plain": [
       "<matplotlib.figure.Figure at 0x7f9a705b32d0>"
      ]
     },
     "metadata": {},
     "output_type": "display_data"
    }
   ],
   "source": [
    "number_of_components = 3\n",
    "\n",
    "permuted_scores = list()\n",
    "\n",
    "for i in range(0,1000):\n",
    "    x_permuted = x_original[np.random.permutation(np.arange(0, x_original.shape[0])), :]\n",
    "\n",
    "    # Running PLS regression on the random sample\n",
    "    x_train, x_test, y_train, y_test = train_test_split(x_permuted, y_original, test_size=0.4, random_state=0)\n",
    "    pls = PLSRegression(n_components=number_of_components)\n",
    "    fit = pls.fit(x_train, y_train)\n",
    "    permuted_scores.append(fit.score(x_test, y_test))\n",
    "\n",
    "x_train, x_test, y_train, y_test = train_test_split(x_original, y_original, test_size=0.4, random_state=0)\n",
    "pls = PLSRegression(n_components=number_of_components)\n",
    "fit = pls.fit(x_train, y_train)\n",
    "original_score = fit.score(x_test, y_test)\n",
    "\n",
    "sns.distplot(permuted_scores)\n",
    "plt.axvline(x=original_score, color='r')\n",
    "\n",
    "t,p = ttest_1samp(a=permuted_scores, popmean=original_score)\n",
    "print('Test compared to permuted sample: t=%.2f, p=%.3f' % (t,p))"
   ]
  },
  {
   "cell_type": "markdown",
   "metadata": {},
   "source": [
    "**Conclusion**: Even with just one component, the model is significantly different from random values"
   ]
  },
  {
   "cell_type": "markdown",
   "metadata": {},
   "source": [
    "### Determine variability in the signal\n",
    "This is using a bootstrapping procedure (random sampling with replacement) to estimate the variability in the original data"
   ]
  },
  {
   "cell_type": "code",
   "execution_count": 38,
   "metadata": {
    "collapsed": false
   },
   "outputs": [
    {
     "name": "stdout",
     "output_type": "stream",
     "text": [
      "             component_variance  cumulative_variance  component_variance_std\n",
      "component 1               22.12                22.12                   4.137\n",
      "component 2               16.41                38.53                   5.849\n",
      "component 3                9.92                48.45                   4.605\n",
      "component 4                5.86                54.30                   4.484\n",
      "component 5                4.34                58.65                   4.548\n",
      "component 6                2.81                61.46                   4.617\n",
      "component 7                1.83                63.29                   4.898\n",
      "component 8                0.83                64.12                   5.208\n",
      "component 9               -0.06                64.06                   5.542\n"
     ]
    }
   ],
   "source": [
    "number_of_components = 10\n",
    "\n",
    "variances = list()\n",
    "variances_std = list()\n",
    "\n",
    "for components in range(1,number_of_components):\n",
    "    x_scores = list()\n",
    "    x_loadings = list()\n",
    "    variance_explained = list()\n",
    "    \n",
    "    for i in range(0,1000):\n",
    "        # Selecting a random sub-sample (60% of the total sample)\n",
    "        random_indices = np.asarray(sorted(np.random.choice(np.arange(0,x_original.shape[0]), int(round(0.6*x_original.shape[0])))))\n",
    "        x_sample = x_original[np.asarray(random_indices), :]\n",
    "        y_sample = y_original[np.asarray(random_indices), :]\n",
    "\n",
    "        # Running PLS regression on the random sample\n",
    "        pls = PLSRegression(n_components=components)\n",
    "        fit = pls.fit(x_sample, y_sample)\n",
    "\n",
    "        # Collecting the results\n",
    "        x_loadings.append(fit.x_loadings_)\n",
    "        x_scores.append(fit.x_scores_)\n",
    "        variance_explained.append(pls.score(X=x_sample, y=y_sample))\n",
    "    \n",
    "    variances.append( 100*np.mean(variance_explained))\n",
    "    variances_std.append(100*np.std(variance_explained))\n",
    "    \n",
    "    \n",
    "results = pd.DataFrame()\n",
    "results['component_variance'] = np.hstack([variances[0], np.diff(variances)])\n",
    "results['cumulative_variance'] = variances\n",
    "results['component_variance_std'] = variances_std\n",
    "results.index = ['component ' + str(i) for i in range(1,number_of_components)]\n",
    "print(results.round({'component_variance': 2, 'cumulative_variance': 2, 'component_variance_std': 3}))"
   ]
  },
  {
   "cell_type": "code",
   "execution_count": 58,
   "metadata": {
    "collapsed": false,
    "scrolled": true
   },
   "outputs": [],
   "source": [
    "# Running PLS regression on the random sample\n",
    "x_scores = list()\n",
    "for i in range(0,1000):\n",
    "    pls = PLSRegression(n_components=5)\n",
    "    fit = pls.fit(x_original, y_original)\n",
    "    x_scores.append(fit.x_scores_)"
   ]
  },
  {
   "cell_type": "code",
   "execution_count": 59,
   "metadata": {
    "collapsed": false
   },
   "outputs": [
    {
     "name": "stdout",
     "output_type": "stream",
     "text": [
      "   G1 vs G2  G1 vs G3  G2 vs G3\n",
      "0     0.000     0.178     0.002\n",
      "1     0.001     0.942     0.001\n",
      "2     0.001     0.000     0.000\n",
      "3     0.695     0.000     0.000\n",
      "4     0.000     0.057     0.131\n"
     ]
    }
   ],
   "source": [
    "x_scores = np.mean(np.asarray(x_scores), axis=0)\n",
    "number_of_components = 5\n",
    "results = pd.DataFrame()\n",
    "\n",
    "for component in range(0, number_of_components):\n",
    "    for comparison in [(1,2), (1,3), (2,3)]:\n",
    "        W, p = ks_2samp(x_scores[np.where(df['groups'] == comparison[0]), component][0], x_scores[np.where(df['groups'] == comparison[1]), component][0])\n",
    "        results.set_value(component, 'G' + str(comparison[0]) + ' vs G' + str(comparison[1]), p)\n",
    "\n",
    "print(results.round(3))"
   ]
  },
  {
   "cell_type": "code",
   "execution_count": 60,
   "metadata": {
    "collapsed": true
   },
   "outputs": [],
   "source": [
    "_,p,_,_ = multipletests(results.values.flatten(), method='bonferroni')\n",
    "counter = 0\n",
    "\n",
    "corrected_results = pd.DataFrame()\n",
    "for component in range(0, number_of_components):\n",
    "    for comparison in [(1,2), (1,3), (2,3)]:\n",
    "        corrected_results.set_value(component, 'G' + str(comparison[0]) + ' vs G' + str(comparison[1]), p[counter])\n",
    "        counter += 1"
   ]
  },
  {
   "cell_type": "code",
   "execution_count": 61,
   "metadata": {
    "collapsed": false
   },
   "outputs": [
    {
     "name": "stdout",
     "output_type": "stream",
     "text": [
      "   G1 vs G2  G1 vs G3  G2 vs G3\n",
      "0     0.000      1.00     0.027\n",
      "1     0.012      1.00     0.019\n",
      "2     0.008      0.00     0.006\n",
      "3     1.000      0.00     0.004\n",
      "4     0.001      0.85     1.000\n"
     ]
    }
   ],
   "source": [
    "print(corrected_results.round(3))"
   ]
  },
  {
   "cell_type": "code",
   "execution_count": 47,
   "metadata": {
    "collapsed": true
   },
   "outputs": [],
   "source": [
    "mean_loadings = np.mean(np.rollaxis(np.asarray(x_loadings), 0, 3), axis=2)\n",
    "se_loadings = sem(np.rollaxis(np.asarray(x_loadings), 0, 3), axis=2)\n",
    "pls_score = mean_loadings/se_loadings\n",
    "np.savetxt('/imaging/jb07/CALM/Modularity/PLS_scores.txt', pls_score)"
   ]
  },
  {
   "cell_type": "code",
   "execution_count": 48,
   "metadata": {
    "collapsed": false
   },
   "outputs": [],
   "source": [
    "df['score'] = x_scores[:,0]"
   ]
  },
  {
   "cell_type": "code",
   "execution_count": 67,
   "metadata": {
    "collapsed": false
   },
   "outputs": [],
   "source": [
    "df['groups'] = pd.Categorical(df['groups'], categories=[1,2,3], ordered=True)"
   ]
  },
  {
   "cell_type": "code",
   "execution_count": 69,
   "metadata": {
    "collapsed": false
   },
   "outputs": [
    {
     "data": {
      "image/png": "[encoded data removed]",
      "text/plain": [
       "<matplotlib.figure.Figure at 0x7fbe9be10110>"
      ]
     },
     "metadata": {},
     "output_type": "display_data"
    },
    {
     "data": {
      "image/png": "[encoded data removed]",
      "text/plain": [
       "<matplotlib.figure.Figure at 0x7fbe9c01eed0>"
      ]
     },
     "metadata": {},
     "output_type": "display_data"
    },
    {
     "data": {
      "image/png": "[encoded data removed]",
      "text/plain": [
       "<matplotlib.figure.Figure at 0x7fbe9714cc10>"
      ]
     },
     "metadata": {},
     "output_type": "display_data"
    },
    {
     "data": {
      "image/png": "[encoded data removed]",
      "text/plain": [
       "<matplotlib.figure.Figure at 0x7fbe970b2210>"
      ]
     },
     "metadata": {},
     "output_type": "display_data"
    },
    {
     "data": {
      "image/png": "[encoded data removed]",
      "text/plain": [
       "<matplotlib.figure.Figure at 0x7fbe971c9a50>"
      ]
     },
     "metadata": {},
     "output_type": "display_data"
    }
   ],
   "source": [
    "for i in np.arange(0, number_of_components):\n",
    "    sns.set_style(\"whitegrid\")\n",
    "    sns.set_style({'axes.grid': False,\n",
    "                   'font.family': [u'serif'],\n",
    "                   'font.sans-serif': [u'Computer Modern Unicode'],})\n",
    "\n",
    "    fig = plt.figure(figsize=(30*mm2inches, 50*mm2inches), dpi=300, tight_layout=True)\n",
    "    colours = ['#40E0D0', '#FFD700', '#b22222']\n",
    "    df['score'] = x_scores[:,i]\n",
    "    sns.boxplot(x='groups', y='score', data=df,  palette=colours, width=0.5)\n",
    "    #sns.stripplot(df['groups'], x_scores[:,i], color='k', size=2, alpha=0.3, jitter=True)\n",
    "    plt.xlabel(' ')\n",
    "    plt.ylabel(' ')\n",
    "    ax = fig.gca()\n",
    "    ax.spines['top'].set_visible(False)\n",
    "    ax.spines['bottom'].set_visible(False)\n",
    "    ax.spines['right'].set_visible(False)\n",
    "    ax.set_xticklabels([])\n",
    "    ax.xaxis.set_ticks_position('bottom')\n",
    "    ax.yaxis.set_ticks_position('left')\n",
    "    plt.savefig('/imaging/jb07/CALM/Modularity/PLS_plots/PLS_' + str(i) + '_boxplot.png', dpi=600)"
   ]
  },
  {
   "cell_type": "code",
   "execution_count": 144,
   "metadata": {
    "collapsed": false
   },
   "outputs": [],
   "source": [
    "labels = pd.read_csv('/imaging/jb07/CALM/Modularity/labels.txt', header=None)[0].values\n",
    "pls_scores[np.abs(pls_scores)/np.max(pls_scores) < 0.8] = 0\n",
    "results = pd.DataFrame()\n",
    "results['PLS 1'] = pls_scores[0:14, 0]\n",
    "results['PLS 2'] = pls_scores[0:14, 1]\n",
    "results['PLS 3'] = pls_scores[0:14, 2]\n",
    "results.index = labels[0:14]"
   ]
  },
  {
   "cell_type": "code",
   "execution_count": 145,
   "metadata": {
    "collapsed": false
   },
   "outputs": [
    {
     "name": "stdout",
     "output_type": "stream",
     "text": [
      "\\begin{tabular}{lrrr}\n",
      "\\toprule\n",
      "{} &  PLS 1 &  PLS 2 &  PLS 3 \\\\\n",
      "\\midrule\n",
      "lh-accumbens   &      0 &      0 &      0 \\\\\n",
      "lh-amygdala    &      0 &      0 &      0 \\\\\n",
      "lh-caudate     &      0 &      0 &      0 \\\\\n",
      "lh-ippocampus  &      0 &      0 &      0 \\\\\n",
      "lh-pallidum    &      0 &      0 &      0 \\\\\n",
      "lh-putamen     &      0 &      0 &      0 \\\\\n",
      "lh-thalamus    &      0 &      0 &      0 \\\\\n",
      "rh-accumbens   &      0 &      0 &      0 \\\\\n",
      "rh-amygdala    &      0 &      0 &      0 \\\\\n",
      "rh-caudate     &      0 &      0 &      0 \\\\\n",
      "rh-hippocampus &      0 &      0 &      0 \\\\\n",
      "rh-pallidum    &      0 &      0 &     35 \\\\\n",
      "rh-putamen     &      0 &      0 &     37 \\\\\n",
      "rh-thalamus    &      0 &      0 &      0 \\\\\n",
      "\\bottomrule\n",
      "\\end{tabular}\n",
      "\n"
     ]
    }
   ],
   "source": [
    "print(results.round().sort_index().to_latex())"
   ]
  },
  {
   "cell_type": "markdown",
   "metadata": {},
   "source": [
    "# Supplementary analyses"
   ]
  },
  {
   "cell_type": "markdown",
   "metadata": {
    "collapsed": true
   },
   "source": [
    "## 1. Repeating analysis with GFA network"
   ]
  },
  {
   "cell_type": "markdown",
   "metadata": {},
   "source": [
    "To check the influence of the weight definition of the network, the analysis is repeated with GFA-weighted networks."
   ]
  },
  {
   "cell_type": "code",
   "execution_count": 28,
   "metadata": {
    "collapsed": false
   },
   "outputs": [],
   "source": [
    "for connection_weight in ['FA', 'GFA']:\n",
    "    \n",
    "    # Loading the data\n",
    "    if connection_weight == 'FA':\n",
    "        filename = lambda(subject): in_folder + '_subject_id_' + subject + '/_model_CSA/_threshold_10/calc_matrix/mapflow/_calc_matrix0/' + subject + '_FA_matrix.txt'\n",
    "    if connection_weight == 'GFA':\n",
    "        filename = lambda(subject): in_folder + '_subject_id_' + subject + '/_model_CSA/_threshold_10/calc_matrix/mapflow/_calc_matrix2/' + subject + '_dwi_GFA_matrix.txt'\n",
    "\n",
    "    df = pd.read_csv('/imaging/jb07/CALM/Behavioural/Community_Detection/Behavioural_data_grouped_Jan17.csv')\n",
    "    df['MRI.ID'] = [get_imaging_ID(str(ID)) for ID in df['ID'].values]\n",
    "    df = df.dropna()\n",
    "    subject_list = sorted([subject for subject in df['MRI.ID'].values if os.path.isfile(filename(subject))])\n",
    "    df = df[df['MRI.ID'].isin(subject_list)]\n",
    "    networks = np.rollaxis(np.asarray([np.loadtxt(filename(subject)) for subject in subject_list]), 0, 3)\n",
    "    np.place(networks, np.isnan(networks), 0) # replacing nan values\n",
    "\n",
    "    # Removing regions that are not of interest\n",
    "    aparc_indices = networkfunctions.aparc_indices('/imaging/jb07/CALM/Modularity/connectome/FreeSurfer/CBU150084/parcellation/aparc_expanded.nii.gz')\n",
    "    new_networks = list()\n",
    "\n",
    "    for counter in range(0,networks.shape[2]):\n",
    "        network = networks[..., counter]\n",
    "        network = network[aparc_indices, ...]\n",
    "        network = network[..., aparc_indices]\n",
    "        new_networks.append(np.squeeze(network))\n",
    "\n",
    "    networks = np.rollaxis(np.asarray(new_networks), 0, 3)\n",
    "    \n",
    "    if connection_weight == 'FA':\n",
    "        FA_networks = networks.copy()\n",
    "    if connection_weight == 'GFA':\n",
    "        GFA_networks = networks.copy()"
   ]
  },
  {
   "cell_type": "code",
   "execution_count": 53,
   "metadata": {
    "collapsed": false
   },
   "outputs": [],
   "source": [
    "differences = list()\n",
    "\n",
    "for density in np.arange(0.75, 0.95, 0.01):\n",
    "    for connection_weight in ['FA', 'GFA']:\n",
    "        degrees = list()\n",
    "        \n",
    "        if connection_weight == 'FA':\n",
    "            for i in range(0, networks.shape[2]):\n",
    "                degrees.append(bct.degrees_und(bct.threshold_proportional(FA_networks[...,i], 0.9)))\n",
    "        if connection_weight == 'GFA':\n",
    "            for i in range(0, networks.shape[2]):\n",
    "                degrees.append(bct.degrees_und(bct.threshold_proportional(GFA_networks[...,i], 0.9)))\n",
    "                \n",
    "        degrees = np.asarray(degrees)\n",
    "\n",
    "        if connection_weight == 'FA':\n",
    "            FA_degrees = degrees.copy()\n",
    "        if connection_weight == 'GFA':\n",
    "            GFA_degrees = degrees.copy()\n",
    "\n",
    "    pvals = list()\n",
    "\n",
    "    for i in range(0, FA_degrees.shape[1]):\n",
    "        stat, p = ks_2samp(FA_degrees[:, i], GFA_degrees[:, i])\n",
    "        pvals.append(p)\n",
    "\n",
    "    differences.append(np.sum(np.asarray(pvals) < 0.05))"
   ]
  },
  {
   "cell_type": "code",
   "execution_count": 54,
   "metadata": {
    "collapsed": false
   },
   "outputs": [
    {
     "data": {
      "text/plain": [
       "<matplotlib.text.Text at 0x7facbad1a750>"
      ]
     },
     "execution_count": 54,
     "metadata": {},
     "output_type": "execute_result"
    },
    {
     "data": {
      "image/png": "[encoded data removed]",
      "text/plain": [
       "<matplotlib.figure.Figure at 0x7facb5ca7f10>"
      ]
     },
     "metadata": {},
     "output_type": "display_data"
    }
   ],
   "source": [
    "plt.plot(np.arange(0.75, 0.95, 0.01), differences)\n",
    "plt.xlabel('Density threshold')\n",
    "plt.ylabel('Number of significant differences')"
   ]
  },
  {
   "cell_type": "markdown",
   "metadata": {},
   "source": [
    "**Conclusion**: The node degree and thereby the PLS results are identical for FA- and GFA-weighted networks"
   ]
  },
  {
   "cell_type": "markdown",
   "metadata": {},
   "source": [
    "## 2. The influence of the density threshold"
   ]
  },
  {
   "cell_type": "code",
   "execution_count": 67,
   "metadata": {
    "collapsed": false
   },
   "outputs": [],
   "source": [
    "x_results = list()\n",
    "\n",
    "for density in np.arange(0.75, 0.95, 0.01):\n",
    "    degrees = list()\n",
    "\n",
    "    for i in range(0, networks.shape[2]):\n",
    "        degrees.append(bct.degrees_und(bct.threshold_proportional(networks[...,i], 0.9)))\n",
    "\n",
    "    degrees = np.asarray(degrees)\n",
    "\n",
    "    df['group1'] = 1*(df['groups'] == 1)\n",
    "    df['group2'] = 1*(df['groups'] == 2)\n",
    "    df['group3'] = 1*(df['groups'] == 3)\n",
    "\n",
    "    x_original = np.asarray(degrees)\n",
    "    y_original = df[['group1', 'group2', 'group3']].values\n",
    "\n",
    "    # Running PLS regression on the random sample\n",
    "    x_scores = list()\n",
    "    for i in range(0,1000):\n",
    "        pls = PLSRegression(n_components=5)\n",
    "        fit = pls.fit(x_original, y_original)\n",
    "        x_scores.append(fit.x_scores_)\n",
    "\n",
    "    x_results.append(np.mean(np.asarray(x_scores), 0))"
   ]
  },
  {
   "cell_type": "code",
   "execution_count": 71,
   "metadata": {
    "collapsed": true
   },
   "outputs": [],
   "source": [
    "import statsmodels.api as sm\n",
    "from statsmodels.formula.api import ols"
   ]
  },
  {
   "cell_type": "markdown",
   "metadata": {},
   "source": [
    "Constructing a dataframe with variables for density and PLS component"
   ]
  },
  {
   "cell_type": "code",
   "execution_count": 160,
   "metadata": {
    "collapsed": false
   },
   "outputs": [],
   "source": [
    "x_results = np.rollaxis(x_results, 0, 3)\n",
    "df = pd.melt(pd.DataFrame(x_results[:,0,:], columns=[density for density in np.arange(0.75, 0.95, 0.01)]))\n",
    "df.columns = ['density', 'PLS0']\n",
    "\n",
    "for i in range(1, x_results.shape[1]):\n",
    "    df['PLS' + str(i)] = pd.melt(pd.DataFrame(x_results[:,i,:], columns=[density for density in np.arange(0.75, 0.95, 0.01)]))['value']\n",
    "\n",
    "df = pd.melt(df, id_vars=['density'])\n",
    "df.columns = ['density', 'component', 'score']"
   ]
  },
  {
   "cell_type": "code",
   "execution_count": 162,
   "metadata": {
    "collapsed": false
   },
   "outputs": [
    {
     "data": {
      "text/html": [
       "<table class=\"simpletable\">\n",
       "<caption>OLS Regression Results</caption>\n",
       "<tr>\n",
       "  <th>Dep. Variable:</th>          <td>score</td>      <th>  R-squared:         </th> <td>   0.000</td> \n",
       "</tr>\n",
       "<tr>\n",
       "  <th>Model:</th>                   <td>OLS</td>       <th>  Adj. R-squared:    </th> <td>  -0.001</td> \n",
       "</tr>\n",
       "<tr>\n",
       "  <th>Method:</th>             <td>Least Squares</td>  <th>  F-statistic:       </th> <td>1.603e-12</td>\n",
       "</tr>\n",
       "<tr>\n",
       "  <th>Date:</th>             <td>Fri, 17 Mar 2017</td> <th>  Prob (F-statistic):</th>  <td>  1.00</td>  \n",
       "</tr>\n",
       "<tr>\n",
       "  <th>Time:</th>                 <td>10:11:17</td>     <th>  Log-Likelihood:    </th> <td> -27841.</td> \n",
       "</tr>\n",
       "<tr>\n",
       "  <th>No. Observations:</th>      <td> 14800</td>      <th>  AIC:               </th> <td>5.570e+04</td>\n",
       "</tr>\n",
       "<tr>\n",
       "  <th>Df Residuals:</th>          <td> 14790</td>      <th>  BIC:               </th> <td>5.578e+04</td>\n",
       "</tr>\n",
       "<tr>\n",
       "  <th>Df Model:</th>              <td>     9</td>      <th>                     </th>     <td> </td>    \n",
       "</tr>\n",
       "<tr>\n",
       "  <th>Covariance Type:</th>      <td>nonrobust</td>    <th>                     </th>     <td> </td>    \n",
       "</tr>\n",
       "</table>\n",
       "<table class=\"simpletable\">\n",
       "<tr>\n",
       "              <td></td>                 <th>coef</th>     <th>std err</th>      <th>t</th>      <th>P>|t|</th>  <th>[0.025</th>    <th>0.975]</th>  \n",
       "</tr>\n",
       "<tr>\n",
       "  <th>Intercept</th>                 <td>-6.138e-13</td> <td>    0.429</td> <td>-1.43e-12</td> <td> 1.000</td> <td>   -0.840</td> <td>    0.840</td>\n",
       "</tr>\n",
       "<tr>\n",
       "  <th>component[T.PLS1]</th>         <td> 6.387e-13</td> <td>    0.606</td> <td> 1.05e-12</td> <td> 1.000</td> <td>   -1.189</td> <td>    1.189</td>\n",
       "</tr>\n",
       "<tr>\n",
       "  <th>component[T.PLS2]</th>         <td> 7.654e-13</td> <td>    0.606</td> <td> 1.26e-12</td> <td> 1.000</td> <td>   -1.189</td> <td>    1.189</td>\n",
       "</tr>\n",
       "<tr>\n",
       "  <th>component[T.PLS3]</th>         <td>  1.27e-12</td> <td>    0.606</td> <td> 2.09e-12</td> <td> 1.000</td> <td>   -1.189</td> <td>    1.189</td>\n",
       "</tr>\n",
       "<tr>\n",
       "  <th>component[T.PLS4]</th>         <td>  3.79e-13</td> <td>    0.606</td> <td> 6.25e-13</td> <td> 1.000</td> <td>   -1.189</td> <td>    1.189</td>\n",
       "</tr>\n",
       "<tr>\n",
       "  <th>density</th>                   <td> 7.213e-13</td> <td>    0.506</td> <td> 1.42e-12</td> <td> 1.000</td> <td>   -0.992</td> <td>    0.992</td>\n",
       "</tr>\n",
       "<tr>\n",
       "  <th>density:component[T.PLS1]</th> <td>-7.516e-13</td> <td>    0.716</td> <td>-1.05e-12</td> <td> 1.000</td> <td>   -1.403</td> <td>    1.403</td>\n",
       "</tr>\n",
       "<tr>\n",
       "  <th>density:component[T.PLS2]</th> <td>-9.049e-13</td> <td>    0.716</td> <td>-1.26e-12</td> <td> 1.000</td> <td>   -1.403</td> <td>    1.403</td>\n",
       "</tr>\n",
       "<tr>\n",
       "  <th>density:component[T.PLS3]</th> <td>-1.497e-12</td> <td>    0.716</td> <td>-2.09e-12</td> <td> 1.000</td> <td>   -1.403</td> <td>    1.403</td>\n",
       "</tr>\n",
       "<tr>\n",
       "  <th>density:component[T.PLS4]</th> <td>-4.451e-13</td> <td>    0.716</td> <td>-6.22e-13</td> <td> 1.000</td> <td>   -1.403</td> <td>    1.403</td>\n",
       "</tr>\n",
       "</table>\n",
       "<table class=\"simpletable\">\n",
       "<tr>\n",
       "  <th>Omnibus:</th>       <td>216.073</td> <th>  Durbin-Watson:     </th> <td>   2.028</td>\n",
       "</tr>\n",
       "<tr>\n",
       "  <th>Prob(Omnibus):</th> <td> 0.000</td>  <th>  Jarque-Bera (JB):  </th> <td> 377.559</td>\n",
       "</tr>\n",
       "<tr>\n",
       "  <th>Skew:</th>          <td>-0.097</td>  <th>  Prob(JB):          </th> <td>1.03e-82</td>\n",
       "</tr>\n",
       "<tr>\n",
       "  <th>Kurtosis:</th>      <td> 3.758</td>  <th>  Cond. No.          </th> <td>    173.</td>\n",
       "</tr>\n",
       "</table>"
      ],
      "text/plain": [
       "<class 'statsmodels.iolib.summary.Summary'>\n",
       "\"\"\"\n",
       "                            OLS Regression Results                            \n",
       "==============================================================================\n",
       "Dep. Variable:                  score   R-squared:                       0.000\n",
       "Model:                            OLS   Adj. R-squared:                 -0.001\n",
       "Method:                 Least Squares   F-statistic:                 1.603e-12\n",
       "Date:                Fri, 17 Mar 2017   Prob (F-statistic):               1.00\n",
       "Time:                        10:11:17   Log-Likelihood:                -27841.\n",
       "No. Observations:               14800   AIC:                         5.570e+04\n",
       "Df Residuals:                   14790   BIC:                         5.578e+04\n",
       "Df Model:                           9                                         \n",
       "Covariance Type:            nonrobust                                         \n",
       "=============================================================================================\n",
       "                                coef    std err          t      P>|t|      [0.025      0.975]\n",
       "---------------------------------------------------------------------------------------------\n",
       "Intercept                 -6.138e-13      0.429  -1.43e-12      1.000      -0.840       0.840\n",
       "component[T.PLS1]          6.387e-13      0.606   1.05e-12      1.000      -1.189       1.189\n",
       "component[T.PLS2]          7.654e-13      0.606   1.26e-12      1.000      -1.189       1.189\n",
       "component[T.PLS3]           1.27e-12      0.606   2.09e-12      1.000      -1.189       1.189\n",
       "component[T.PLS4]           3.79e-13      0.606   6.25e-13      1.000      -1.189       1.189\n",
       "density                    7.213e-13      0.506   1.42e-12      1.000      -0.992       0.992\n",
       "density:component[T.PLS1] -7.516e-13      0.716  -1.05e-12      1.000      -1.403       1.403\n",
       "density:component[T.PLS2] -9.049e-13      0.716  -1.26e-12      1.000      -1.403       1.403\n",
       "density:component[T.PLS3] -1.497e-12      0.716  -2.09e-12      1.000      -1.403       1.403\n",
       "density:component[T.PLS4] -4.451e-13      0.716  -6.22e-13      1.000      -1.403       1.403\n",
       "==============================================================================\n",
       "Omnibus:                      216.073   Durbin-Watson:                   2.028\n",
       "Prob(Omnibus):                  0.000   Jarque-Bera (JB):              377.559\n",
       "Skew:                          -0.097   Prob(JB):                     1.03e-82\n",
       "Kurtosis:                       3.758   Cond. No.                         173.\n",
       "==============================================================================\n",
       "\n",
       "Warnings:\n",
       "[1] Standard Errors assume that the covariance matrix of the errors is correctly specified.\n",
       "\"\"\""
      ]
     },
     "execution_count": 162,
     "metadata": {},
     "output_type": "execute_result"
    }
   ],
   "source": [
    "ols('score ~ density + component + density*component', data=df).fit().summary()"
   ]
  },
  {
   "cell_type": "code",
   "execution_count": null,
   "metadata": {
    "collapsed": true
   },
   "outputs": [],
   "source": []
  }
 ],
 "metadata": {
  "kernelspec": {
   "display_name": "Python 2",
   "language": "python",
   "name": "python2"
  },
  "language_info": {
   "codemirror_mode": {
    "name": "ipython",
    "version": 2
   },
   "file_extension": ".py",
   "mimetype": "text/x-python",
   "name": "python",
   "nbconvert_exporter": "python",
   "pygments_lexer": "ipython2",
   "version": "2.7.12"
  }
 },
 "nbformat": 4,
 "nbformat_minor": 0
}
