{
 "cells": [
  {
   "cell_type": "markdown",
   "metadata": {},
   "source": [
    "# Community detection to define response profile subtypes on the Conners-3 questionnaire"
   ]
  },
  {
   "cell_type": "code",
   "execution_count": 1,
   "metadata": {
    "collapsed": false
   },
   "outputs": [
    {
     "name": "stdout",
     "output_type": "stream",
     "text": [
      "Populating the interactive namespace from numpy and matplotlib\n"
     ]
    }
   ],
   "source": [
    "%pylab inline"
   ]
  },
  {
   "cell_type": "code",
   "execution_count": 2,
   "metadata": {
    "collapsed": false
   },
   "outputs": [],
   "source": [
    "from IPython.display import display\n",
    "from ipywidgets import interact"
   ]
  },
  {
   "cell_type": "code",
   "execution_count": 3,
   "metadata": {
    "collapsed": false
   },
   "outputs": [],
   "source": [
    "import bct\n",
    "import itertools\n",
    "import matplotlib.pyplot as plt\n",
    "from matplotlib.colors import LinearSegmentedColormap\n",
    "import networkx as nx\n",
    "from numpy import random\n",
    "from scipy.stats import chisquare, mannwhitneyu, shapiro, ttest_ind\n",
    "import statsmodels.api as sm\n",
    "from statsmodels.sandbox.stats.multicomp import multipletests\n",
    "from statsmodels.formula.api import ols\n",
    "import seaborn as sns\n",
    "import pandas as pd"
   ]
  },
  {
   "cell_type": "code",
   "execution_count": 4,
   "metadata": {
    "collapsed": true
   },
   "outputs": [],
   "source": [
    "from matplotlib import rcParams  \n",
    "rcParams['font.family'] = 'serif'  \n",
    "rcParams['font.serif'] = ['Computer Modern Unicode']  \n",
    "rcParams['text.usetex'] = True  \n",
    "rcParams['axes.labelsize'] = 9  \n",
    "rcParams['xtick.labelsize'] = 9  \n",
    "rcParams['ytick.labelsize'] = 9  \n",
    "rcParams['legend.fontsize'] = 9  \n",
    "mm2inches = 0.039371\n",
    "single_column = 90*mm2inches\n",
    "double_column = 190*mm2inches\n",
    "one_half_column = 140*mm2inches"
   ]
  },
  {
   "cell_type": "code",
   "execution_count": 5,
   "metadata": {
    "collapsed": true
   },
   "outputs": [],
   "source": [
    "outfolder = '/imaging/jb07/CALM/Behavioural/Community_Detection/'"
   ]
  },
  {
   "cell_type": "markdown",
   "metadata": {},
   "source": [
    "## Function definitions"
   ]
  },
  {
   "cell_type": "code",
   "execution_count": 62,
   "metadata": {
    "collapsed": false
   },
   "outputs": [],
   "source": [
    "## Graph Theory function\n",
    "def construct_network(df):\n",
    "    \n",
    "    import pandas as pd\n",
    "    from sklearn.preprocessing import StandardScaler\n",
    "    from statsmodels.formula.api import ols\n",
    "\n",
    "    variables = [col for col in df.columns if col not in ['age']]\n",
    "\n",
    "    # Scaling the variables\n",
    "    scaler = StandardScaler()\n",
    "    df_scaled = pd.DataFrame(scaler.fit_transform(df[df.columns]), columns=df.columns)\n",
    "\n",
    "    # Regressing the effect of age\n",
    "    df_woAge = df_scaled.copy()\n",
    "    for variable in variables:\n",
    "        df_woAge[variable] = ols(variable + ' ~ age', data=df_scaled).fit().resid\n",
    "\n",
    "    network = df_woAge[variables].transpose().corr().values\n",
    "\n",
    "    return (network, df_woAge)\n",
    "\n",
    "def get_consensus_module_assignment(network, iterations):\n",
    "    #================================\n",
    "    # Obtain the consensus module structure\n",
    "    #================================\n",
    "    \"\"\"\n",
    "    inputs:\n",
    "    adjacency_matrix: adjacency_matrix\n",
    "    gamma: gamma value\n",
    "\n",
    "    outputs:\n",
    "    vector of module assignment for each node\n",
    "    \"\"\"\n",
    "    import numpy as np\n",
    "    consensus_matrices = list()\n",
    "\n",
    "    for i in range(0,iterations):\n",
    "        consensus_matrix,modules,q = get_consensus_matrix(network)\n",
    "        consensus_matrices.append(consensus_matrix)\n",
    "\n",
    "    mean_consensus_matrix = np.mean(consensus_matrices,axis=0)\n",
    "\n",
    "    consensus_matrix,modules,q = get_consensus_matrix(mean_consensus_matrix)\n",
    "    consensus_matrix2,modules,q = get_consensus_matrix(mean_consensus_matrix)\n",
    "\n",
    "    while abs(np.sum(consensus_matrix - consensus_matrix2)) != 0:\n",
    "        consensus_matrix,modules,q = get_consensus_matrix(mean_consensus_matrix)\n",
    "        consensus_matrix2,modules,q = get_consensus_matrix(mean_consensus_matrix)\n",
    "\n",
    "    return (modules, q)\n",
    "\n",
    "def get_consensus_matrix(network):\n",
    "    import bct\n",
    "    import numpy as np\n",
    "    modules,q = bct.modularity_louvain_und_sign(network, qtype='smp')\n",
    "    module_matrix = np.repeat(modules,repeats=network.shape[0])\n",
    "    module_matrix = np.reshape(module_matrix,newshape=network.shape)\n",
    "    consensus_matrix = module_matrix == module_matrix.transpose()\n",
    "    return (consensus_matrix.astype('float'), modules, q)\n",
    "\n",
    "def plot_network(network):\n",
    "    import matplotlib.pyplot as plt\n",
    "\n",
    "    plt.imshow(network, \n",
    "               cmap='jet',\n",
    "               interpolation='none',\n",
    "               vmin=-1, vmax=1)\n",
    "    divider = make_axes_locatable(ax)\n",
    "    cax = divider.append_axes(\"right\", size=\"5%\", pad=0.05)\n",
    "    cb = plt.colorbar()\n",
    "    cb.set_label('Pearson correlation coefficient R')\n",
    "    cb.ax.yaxis.set_label_position('left')\n",
    "\n",
    "def plot_community_matrix(network, community_affiliation):\n",
    "    import matplotlib.pyplot as plt\n",
    "    from mpl_toolkits.axes_grid1 import make_axes_locatable\n",
    "\n",
    "    sorting_array = sorted(range(len(community_affiliation)), key=lambda k: community_affiliation[k])\n",
    "    sorted_network = network[sorting_array, :]\n",
    "    sorted_network = sorted_network[:, sorting_array]\n",
    "    plt.figure(figsize=(one_half_column/2, one_half_column/2), dpi=300)\n",
    "    im = plt.imshow(sorted_network, \n",
    "               cmap='jet',\n",
    "               interpolation='none',\n",
    "               vmin=-1, vmax=1)\n",
    "    ax = plt.gca()\n",
    "    ax.grid('off')\n",
    "    divider = make_axes_locatable(ax)\n",
    "    cax = divider.append_axes(\"right\", size=\"5%\", pad=0.05)\n",
    "    cb = plt.colorbar(im, cax=cax)\n",
    "    cb.set_label('Pearson correlation coefficient R')\n",
    "    cb.ax.yaxis.set_label_position('right')\n",
    "    plt.tight_layout(pad=0, w_pad=1, h_pad=0)\n",
    "\n",
    "    \n",
    "def plot_spring_network(network, community_affiliation):\n",
    "    import matplotlib.pyplot as plt\n",
    "    import networkx as nx\n",
    "    import numpy as np\n",
    "    \n",
    "    plt.figure(figsize=(one_half_column/2, one_half_column/2), dpi=300)\n",
    "    G=nx.from_numpy_matrix(bct.threshold_absolute(network, 0.8))\n",
    "    colours = ['turquoise', 'gold', 'firebrick', 'limegreen', 'darkorange', 'deepskyblue']\n",
    "\n",
    "    pos=nx.spring_layout(G)\n",
    "\n",
    "    for community in np.unique(community_affiliation):\n",
    "\n",
    "        nx.draw_networkx_nodes(G,pos,\n",
    "                               nodelist=np.where(community_affiliation == community)[0].tolist(),\n",
    "                               node_color=colours[community-1],\n",
    "                               node_size=20,\n",
    "                               alpha=0.8)\n",
    "\n",
    "\n",
    "    nx.draw_networkx_edges(G,pos,width=0.5,alpha=0.5)\n",
    "    plt.axis('off');\n",
    "    #plt.legend(['C' + str(community) for community in np.unique(community_affiliation) ])\n",
    "    \n",
    "def add_noise(network, percentage_noise):\n",
    "    import numpy as np\n",
    "\n",
    "    network_wNoise = (1-(float(percentage_noise)/100))*network + (float(percentage_noise)/100)*np.random.normal(0, 1, network.shape)\n",
    "\n",
    "    return network_wNoise\n",
    "\n",
    "def get_connection_densities(network, community_affiliation):\n",
    "    #================================\n",
    "    # Get density of within and between module connections\n",
    "    #================================\n",
    "    \"\"\"\n",
    "    inputs:\n",
    "    network: adjacency_matrix (NumPy array)\n",
    "    community_affiliation: array that indicates which community/module an node belongs to\n",
    "\n",
    "    outputs:\n",
    "    density of connections within modules\n",
    "    density of connections between modules\n",
    "    \"\"\"\n",
    "\n",
    "    import networkx as nx\n",
    "    \n",
    "    network[network > 0] = 1. # binarizing the network\n",
    "    \n",
    "    G = nx.from_numpy_matrix(network) # original network\n",
    "    for node in G.nodes():\n",
    "         G.node[node]['community'] = community_affiliation[node]\n",
    "\n",
    "    within_weights = list()\n",
    "    between_weights = list()\n",
    "\n",
    "    for edge in G.edges():\n",
    "        if G.node[edge[0]]['community'] == G.node[edge[1]]['community']:\n",
    "            within_weights.append(G.edge[edge[0]][edge[1]]['weight'])\n",
    "        else:\n",
    "            between_weights.append(G.edge[edge[0]][edge[1]]['weight'])\n",
    "\n",
    "    connected_G = nx.from_numpy_matrix(np.ones(shape=network.shape)) # fully-connected network\n",
    "    full_within_weights = list()\n",
    "    full_between_weights = list()\n",
    "\n",
    "    for node in connected_G.nodes():\n",
    "         connected_G.node[node]['community'] = community_affiliation[node]\n",
    "\n",
    "    for edge in connected_G.edges():\n",
    "        if connected_G.node[edge[0]]['community'] == connected_G.node[edge[1]]['community']:\n",
    "            full_within_weights.append(connected_G.edge[edge[0]][edge[1]]['weight'])\n",
    "        else:\n",
    "            full_between_weights.append(connected_G.edge[edge[0]][edge[1]]['weight'])\n",
    "\n",
    "    within_density = sum(within_weights)/sum(full_within_weights)\n",
    "    between_density = sum(between_weights)/sum(full_between_weights)\n",
    "    \n",
    "    return(within_density, between_density)\n",
    "\n",
    "def make_SuePlot(df, measures, labels, width, name):\n",
    "    sns.set_style(\"whitegrid\")\n",
    "    sns.set_style({'axes.grid': False,\n",
    "                   'font.family': [u'serif'],\n",
    "                   'font.sans-serif': [u'Computer Modern Unicode'],})\n",
    "    colours = ['turquoise', 'gold', 'firebrick', 'limegreen', 'darkorange', 'deepskyblue']\n",
    "\n",
    "    plt.figure(figsize=(width, double_column/2), dpi=600)\n",
    "\n",
    "    plt.subplot(2,1,1)\n",
    "    for community in np.unique(df['groups'].values):\n",
    "        plt.errorbar(x=range(0,len(measures)),\n",
    "                y=df[df['groups'] == community].mean().values[1:],\n",
    "                yerr=2*df[df['groups'] == community].std().values[1:]/sqrt(len(df[df['groups'] == community])),\n",
    "                color=colours[community-1])\n",
    "\n",
    "    plt.xlim([-0.5,len(measures)-0.5])\n",
    "    plt.xticks(range(0,len(measures)))\n",
    "    plt.legend(['C' + str(community) for community in sorted(np.unique(community_affiliation))], frameon=True, loc='best')\n",
    "    plt.ylabel('z-score residuals')\n",
    "    ax = plt.gca()\n",
    "    ax.set_xticklabels('', rotation=90);\n",
    "    ax.set_axis_bgcolor('white')\n",
    "    ax.spines['top'].set_visible(False)\n",
    "    ax.spines['right'].set_visible(False)\n",
    "    ax.spines['bottom'].set_visible(False)\n",
    "    ax.xaxis.set_ticks_position('bottom')\n",
    "    ax.yaxis.set_ticks_position('left')\n",
    "\n",
    "    plt.subplot(2,1,2)\n",
    "    combinations = list(itertools.combinations(np.unique(community_affiliation), 2))\n",
    "\n",
    "    new_style = {'grid': False}\n",
    "    matplotlib.rc('axes', **new_style)\n",
    "    plt.imshow(binarized_results, \n",
    "              interpolation = 'none', \n",
    "              cmap=LinearSegmentedColormap.from_list('mycmap', [(0, 'lightgray'), (1, 'orangered')]))\n",
    "    plt.yticks(np.arange(0,len(combinations)))\n",
    "    plt.xticks(np.arange(0, len(measures)))\n",
    "    plt.ylabel('contrast results')\n",
    "\n",
    "    ax = plt.gca()\n",
    "    ax.set_yticklabels([str(combination[0]) + ' v ' + str(combination[1]) for combination in combinations], rotation=0);\n",
    "    ax.set_xticklabels(labels, rotation=90);\n",
    "    plt.tight_layout(pad=0, w_pad=0, h_pad=0)\n",
    "    plt.savefig(outfolder + 'Sue_plot' + name + '.png', dpi=300)"
   ]
  },
  {
   "cell_type": "markdown",
   "metadata": {},
   "source": [
    "### Loading the data"
   ]
  },
  {
   "cell_type": "code",
   "execution_count": 73,
   "metadata": {
    "collapsed": false,
    "scrolled": true
   },
   "outputs": [
    {
     "name": "stdout",
     "output_type": "stream",
     "text": [
      "Number of children assessed: 462\n"
     ]
    }
   ],
   "source": [
    "df = pd.read_csv(outfolder + 'CALM_behavioural_data_Apr17.csv')\n",
    "print('Number of children assessed: ' + str(len(df['ID No.'].dropna())))"
   ]
  },
  {
   "cell_type": "code",
   "execution_count": 74,
   "metadata": {
    "collapsed": false
   },
   "outputs": [],
   "source": [
    "df = pd.read_csv(outfolder + 'CALM_behavioural_data_Apr17.csv')\n",
    "df = df[['ID No.','Gender(1=male)', 'Age_in_months', \n",
    "        'Conners_inattention_raw',\n",
    "        'Conners_hyperactivity_impulsivity_raw',\n",
    "        'Conners_learning_problems_raw',\n",
    "        'Conners_ExecutiveFunction_raw',\n",
    "        'Conners_agression_raw',\n",
    "        'Conners_PeerRelations_raw',\n",
    "        'Conners_Positive_Impression',\n",
    "        'Connors_Negative_Impression']]\n",
    "\n",
    "df.columns = ['ID', 'gender', 'age',\n",
    "              'Inattention',\n",
    "              'HyperactImpuls',\n",
    "              'LearnProb',\n",
    "              'ExeFunc',\n",
    "              'Aggression',\n",
    "              'PeerRel',\n",
    "              'PosImp',\n",
    "              'NegImp']"
   ]
  },
  {
   "cell_type": "markdown",
   "metadata": {},
   "source": [
    "#### Forcing numeric variables to numeric format"
   ]
  },
  {
   "cell_type": "code",
   "execution_count": 75,
   "metadata": {
    "collapsed": false
   },
   "outputs": [
    {
     "name": "stderr",
     "output_type": "stream",
     "text": [
      "/home/jb07/python_modules/ipykernel/__main__.py:4: FutureWarning: convert_objects is deprecated.  Use the data-type specific converters pd.to_datetime, pd.to_timedelta and pd.to_numeric.\n"
     ]
    }
   ],
   "source": [
    "variables = df.columns[2:].values\n",
    "\n",
    "for variable in variables: \n",
    "    df[variable] = df[variable].astype(str).convert_objects(convert_numeric=True)"
   ]
  },
  {
   "cell_type": "markdown",
   "metadata": {},
   "source": [
    "#### Removing missing values"
   ]
  },
  {
   "cell_type": "code",
   "execution_count": 76,
   "metadata": {
    "collapsed": false
   },
   "outputs": [
    {
     "name": "stdout",
     "output_type": "stream",
     "text": [
      "Number of children with complete data on Conners-3: 442\n"
     ]
    }
   ],
   "source": [
    "df = df.replace(999,float('nan'))\n",
    "df = df.replace('incomplete',float('nan'))\n",
    "df = df.replace('INCOMPLETE',float('nan'))\n",
    "df = df.replace('.',float('nan'))\n",
    "df = df.dropna()\n",
    "print('Number of children with complete data on Conners-3: ' + str(len(df['ID'])))"
   ]
  },
  {
   "cell_type": "markdown",
   "metadata": {},
   "source": [
    "Assessing validity scales"
   ]
  },
  {
   "cell_type": "code",
   "execution_count": 77,
   "metadata": {
    "collapsed": false
   },
   "outputs": [
    {
     "name": "stdout",
     "output_type": "stream",
     "text": [
      "Possibly overly positive response style: 0\n",
      "Possibly overly negative response style: 80\n"
     ]
    }
   ],
   "source": [
    "print('Possibly overly positive response style: ' + str(sum(df['PosImp'].values > 3)))\n",
    "print('Possibly overly negative response style: ' + str(sum(df['NegImp'].values > 3)))"
   ]
  },
  {
   "cell_type": "code",
   "execution_count": 78,
   "metadata": {
    "collapsed": false
   },
   "outputs": [],
   "source": [
    "network,df_woAge = construct_network(df[['age', 'Inattention', 'HyperactImpuls', 'LearnProb', 'ExeFunc', 'Aggression', 'PeerRel']])\n",
    "df_woAge['ID']  = df['ID']\n",
    "df_woAge['gender'] = df['gender']"
   ]
  },
  {
   "cell_type": "code",
   "execution_count": 79,
   "metadata": {
    "collapsed": false
   },
   "outputs": [
    {
     "name": "stdout",
     "output_type": "stream",
     "text": [
      "Number of children included in the analysis: 442 (M:295; F:135)\n",
      "Age: mean=110.27; SE=1.261; Range=2.0-215.0\n"
     ]
    }
   ],
   "source": [
    "print('Number of children included in the analysis: ' + str(len(df)) + \n",
    "      ' (M:' + str(len(df_woAge[df_woAge['gender'] == 1])) + \n",
    "      '; F:' + str(len(df_woAge[df_woAge['gender'] == 2])) + ')')\n",
    "\n",
    "print('Age: mean=' + \n",
    "    str(round(df['age'].mean(), 2)) + \n",
    "    '; SE=' +\n",
    "    str(round(df['age'].std()/sqrt(len(df['age'])), 3)) + \n",
    "    '; Range=' + \n",
    "    str(round(df['age'].min(), 2)) + '-' +\n",
    "    str(round(df['age'].max(), 2)))"
   ]
  },
  {
   "cell_type": "markdown",
   "metadata": {},
   "source": [
    "#### Community detection to define subgroups"
   ]
  },
  {
   "cell_type": "code",
   "execution_count": 80,
   "metadata": {
    "collapsed": false,
    "scrolled": false
   },
   "outputs": [
    {
     "name": "stdout",
     "output_type": "stream",
     "text": [
      "Quality index:0.58\n"
     ]
    }
   ],
   "source": [
    "community_affiliation,q = get_consensus_module_assignment(network, 100)\n",
    "print('Quality index:' + str(round(q,2)))"
   ]
  },
  {
   "cell_type": "code",
   "execution_count": 81,
   "metadata": {
    "collapsed": false
   },
   "outputs": [],
   "source": [
    "df['groups'] = community_affiliation\n",
    "df.to_csv(outfolder + '/Behavioural_data_grouped_Apr17.csv')"
   ]
  },
  {
   "cell_type": "markdown",
   "metadata": {},
   "source": [
    "When excluding the ratings with high negativity"
   ]
  },
  {
   "cell_type": "code",
   "execution_count": null,
   "metadata": {
    "collapsed": false
   },
   "outputs": [],
   "source": [
    "neg_excluded_df = df.copy()\n",
    "neg_excluded_df = neg_excluded_df[neg_excluded_df['NegImp'] < 3]\n",
    "network_negEx,df_negEx_woAge = construct_network(neg_excluded_df[['age', 'Inattention', 'HyperactImpuls', 'LearnProb', 'ExeFunc', 'Aggression', 'PeerRel']])\n",
    "community_affiliation,q = get_consensus_module_assignment(network_negEx, 100)\n",
    "print('Quality index:' + str(round(q,2)))"
   ]
  },
  {
   "cell_type": "markdown",
   "metadata": {},
   "source": [
    "Selecting a random subset of the full sample"
   ]
  },
  {
   "cell_type": "code",
   "execution_count": 17,
   "metadata": {
    "collapsed": false
   },
   "outputs": [
    {
     "name": "stdout",
     "output_type": "stream",
     "text": [
      "Quality index:0.59\n"
     ]
    }
   ],
   "source": [
    "subsample_df = df[df['ID'].isin(np.random.choice(df['ID'].values, int(.25*len(df))))]\n",
    "network_samp,df_negEx_samp = construct_network(subsample_df[['age', 'Inattention', 'HyperactImpuls', 'LearnProb', 'ExeFunc', 'Aggression', 'PeerRel']])\n",
    "community_affiliation,q = get_consensus_module_assignment(network_negEx, 100)\n",
    "print('Quality index:' + str(round(q,2)))"
   ]
  },
  {
   "cell_type": "markdown",
   "metadata": {},
   "source": [
    "##### Plotting the results"
   ]
  },
  {
   "cell_type": "code",
   "execution_count": 82,
   "metadata": {
    "collapsed": false
   },
   "outputs": [
    {
     "data": {
      "image/png": "[encoded data removed]",
      "text/plain": [
       "<matplotlib.figure.Figure at 0x7ffc614a8350>"
      ]
     },
     "metadata": {},
     "output_type": "display_data"
    }
   ],
   "source": [
    "import matplotlib.pyplot as plt\n",
    "from mpl_toolkits.axes_grid1 import make_axes_locatable\n",
    "plt.figure(figsize=(one_half_column/2, one_half_column/2), dpi=300)\n",
    "im = plt.imshow(network, \n",
    "           cmap='jet',\n",
    "           interpolation='none',\n",
    "           vmin=-1, vmax=1)\n",
    "ax = plt.gca()\n",
    "ax.grid('off')\n",
    "divider = make_axes_locatable(ax)\n",
    "cax = divider.append_axes(\"right\", size=\"5%\", pad=0.05)\n",
    "cb = plt.colorbar(im, cax=cax)\n",
    "cb.set_label('Pearson correlation coefficient R')\n",
    "cb.ax.yaxis.set_label_position('right')\n",
    "plt.tight_layout(pad=0, w_pad=1, h_pad=0)\n",
    "plt.savefig(outfolder + 'native_matrix.png', dpi=300)"
   ]
  },
  {
   "cell_type": "code",
   "execution_count": 83,
   "metadata": {
    "collapsed": false
   },
   "outputs": [
    {
     "data": {
      "image/png": "[encoded data removed]",
      "text/plain": [
       "<matplotlib.figure.Figure at 0x7ffc612ec350>"
      ]
     },
     "metadata": {},
     "output_type": "display_data"
    }
   ],
   "source": [
    "plot_community_matrix(network, community_affiliation)\n",
    "plt.savefig(outfolder + 'community_matrix.png', dpi=300)"
   ]
  },
  {
   "cell_type": "markdown",
   "metadata": {},
   "source": [
    "**Figure**: Adjacency matrix after ordering nodes according to the community assignment. The adjacency matrix shows a clear separation of communities as indicated by the distinct rectangles along the diagonal. "
   ]
  },
  {
   "cell_type": "code",
   "execution_count": 87,
   "metadata": {
    "collapsed": false
   },
   "outputs": [
    {
     "data": {
      "image/png": "[encoded data removed]",
      "text/plain": [
       "<matplotlib.figure.Figure at 0x7ffc61286710>"
      ]
     },
     "metadata": {},
     "output_type": "display_data"
    }
   ],
   "source": [
    "plot_spring_network(network, community_affiliation)\n",
    "plt.savefig(outfolder + 'spring_layout.png', dpi=300)"
   ]
  },
  {
   "cell_type": "markdown",
   "metadata": {},
   "source": [
    "**Figure**: Visualization of community detection. The figure shows the three communities detected by the algorithm. The network is plotted in a spring layout and was thresholded at 0.6 for visualization purposes."
   ]
  },
  {
   "cell_type": "markdown",
   "metadata": {},
   "source": [
    "### Stats"
   ]
  },
  {
   "cell_type": "markdown",
   "metadata": {},
   "source": [
    "Getting descriptives for the group assignment"
   ]
  },
  {
   "cell_type": "code",
   "execution_count": 88,
   "metadata": {
    "collapsed": false
   },
   "outputs": [],
   "source": [
    "df_woAge['groups'] = community_affiliation"
   ]
  },
  {
   "cell_type": "code",
   "execution_count": 89,
   "metadata": {
    "collapsed": false
   },
   "outputs": [
    {
     "name": "stdout",
     "output_type": "stream",
     "text": [
      "Cluster 1: 149(33.71%)\n",
      "Cluster 2: 145(32.81%)\n",
      "Cluster 3: 148(33.48%)\n"
     ]
    }
   ],
   "source": [
    "print('Cluster 1: ' + str(len(df_woAge[df_woAge['groups'] == 1])) + '(' + str(round(100*float(len(df_woAge[df_woAge['groups'] == 1]))/len(df_woAge), 2)) + '%)')\n",
    "print('Cluster 2: ' + str(len(df_woAge[df_woAge['groups'] == 2])) + '(' + str(round(100*float(len(df_woAge[df_woAge['groups'] == 2]))/len(df_woAge), 2)) + '%)')\n",
    "print('Cluster 3: ' + str(len(df_woAge[df_woAge['groups'] == 3])) + '(' + str(round(100*float(len(df_woAge[df_woAge['groups'] == 3]))/len(df_woAge), 2)) + '%)')"
   ]
  },
  {
   "cell_type": "code",
   "execution_count": 90,
   "metadata": {
    "collapsed": false
   },
   "outputs": [
    {
     "name": "stdout",
     "output_type": "stream",
     "text": [
      "Connection density within modules: 0.79\n",
      "Connection density outside modules: 0.05\n"
     ]
    }
   ],
   "source": [
    "print('Connection density within modules: ' + str(round(get_connection_densities(network, community_affiliation)[0], 2)))\n",
    "print('Connection density outside modules: ' + str(round(get_connection_densities(network, community_affiliation)[1], 2)))"
   ]
  },
  {
   "cell_type": "markdown",
   "metadata": {},
   "source": [
    "Checking the distribution of scores in each group"
   ]
  },
  {
   "cell_type": "code",
   "execution_count": 91,
   "metadata": {
    "collapsed": false
   },
   "outputs": [
    {
     "name": "stdout",
     "output_type": "stream",
     "text": [
      "Inattention: p=0.0\n",
      "HyperactImpuls: p=0.0\n",
      "LearnProb: p=0.017\n",
      "ExeFunc: p=0.0\n",
      "Aggression: p=0.0\n",
      "PeerRel: p=0.0\n"
     ]
    }
   ],
   "source": [
    "for variable in variables[1:-2]:\n",
    "    print(variable + ': p=' + str(round(shapiro(df_woAge[df_woAge['groups'] == 1][variable])[1], 3)))"
   ]
  },
  {
   "cell_type": "markdown",
   "metadata": {},
   "source": [
    "Creating a data frame with the data in long format for plotting and statistics "
   ]
  },
  {
   "cell_type": "code",
   "execution_count": 92,
   "metadata": {
    "collapsed": false
   },
   "outputs": [],
   "source": [
    "df_woAge['groups'] = community_affiliation\n",
    "df_long = pd.melt(df_woAge, id_vars=['ID','age', 'gender', 'groups'])\n",
    "df_long['variable'] = pd.Categorical(df_long['variable'].values, categories=df_woAge.columns[1:-3].values, ordered=True)"
   ]
  },
  {
   "cell_type": "markdown",
   "metadata": {},
   "source": [
    "Contrasts with Mann-WhitneyU and Bonferroni correction:"
   ]
  },
  {
   "cell_type": "code",
   "execution_count": 93,
   "metadata": {
    "collapsed": false
   },
   "outputs": [],
   "source": [
    "combinations = list(itertools.combinations(np.unique(community_affiliation), 2))\n",
    "corrected_results = [np.asarray([round(mannwhitneyu(df_woAge[df_woAge['groups'] == combinations[i][0]][variable], df_woAge[df_woAge['groups'] == combinations[i][1]][variable])[1]*len(combinations)*len(df_woAge.columns[1:-3]), 3) for variable in df_woAge.columns[1:-3]]) for i in range(0,len(combinations))]\n",
    "stat_results = [np.asarray([round(mannwhitneyu(df_woAge[df_woAge['groups'] == combinations[i][0]][variable], df_woAge[df_woAge['groups'] == combinations[i][1]][variable])[0], 0) for variable in df_woAge.columns[1:-3]]) for i in range(0,len(combinations))]"
   ]
  },
  {
   "cell_type": "code",
   "execution_count": 94,
   "metadata": {
    "collapsed": false
   },
   "outputs": [
    {
     "name": "stdout",
     "output_type": "stream",
     "text": [
      "\\begin{tabular}{lrrrrrrrrrrrr}\n",
      "\\toprule\n",
      "{} &  median1 &   mad1 &  median2 &   mad2 &  median3 &   mad3 &     U1 &     p1 &    U2 &     p2 &    U3 &     p3 \\\\\n",
      "\\midrule\n",
      "0 &     0.02 &  0.935 &    -0.13 &  0.858 &     0.71 &  0.416 &  10062 &  2.786 &  6539 &  0.000 &  5159 &  0.000 \\\\\n",
      "1 &     0.49 &  0.839 &    -0.86 &  0.637 &     0.62 &  0.607 &   4980 &  0.000 &  9623 &  0.522 &  2962 &  0.000 \\\\\n",
      "2 &    -0.58 &  0.891 &     0.70 &  0.582 &    -0.04 &  0.702 &   4180 &  0.000 &  8656 &  0.012 &  5313 &  0.000 \\\\\n",
      "3 &     0.07 &  0.958 &    -0.17 &  0.830 &     0.55 &  0.601 &  10167 &  3.452 &  7817 &  0.000 &  6536 &  0.000 \\\\\n",
      "4 &     0.44 &  1.083 &    -0.63 &  0.535 &    -0.52 &  0.448 &   5385 &  0.000 &  6010 &  0.000 &  9452 &  0.702 \\\\\n",
      "5 &     0.71 &  0.941 &    -0.37 &  0.693 &    -0.53 &  0.613 &   6368 &  0.000 &  5664 &  0.000 &  9664 &  1.275 \\\\\n",
      "\\bottomrule\n",
      "\\end{tabular}\n",
      "\n"
     ]
    }
   ],
   "source": [
    "results = pd.DataFrame()\n",
    "results['median1'] = df_woAge.groupby('groups').median().round(2)[variables[1:-2]].transpose().values[:,0]\n",
    "results['mad1'] = df_woAge.groupby('groups').mad().round(3)[variables[1:-2]].transpose().values[:,0]\n",
    "results['median2'] = df_woAge.groupby('groups').median().round(2)[variables[1:-2]].transpose().values[:,1]\n",
    "results['mad2'] = df_woAge.groupby('groups').mad().round(3)[variables[1:-2]].transpose().values[:,1]\n",
    "results['median3'] = df_woAge.groupby('groups').median().round(2)[variables[1:-2]].transpose().values[:,2]\n",
    "results['mad3'] = df_woAge.groupby('groups').mad().round(3)[variables[1:-2]].transpose().values[:,2]\n",
    "results['U1'] = stat_results[0]\n",
    "results['p1'] = corrected_results[0]\n",
    "results['U2'] = stat_results[1]\n",
    "results['p2'] = corrected_results[1]\n",
    "results['U3'] = stat_results[2]\n",
    "results['p3'] = corrected_results[2]\n",
    "print(results.to_latex())"
   ]
  },
  {
   "cell_type": "code",
   "execution_count": 95,
   "metadata": {
    "collapsed": false,
    "scrolled": false
   },
   "outputs": [
    {
     "data": {
      "image/png": "[encoded data removed]",
      "text/plain": [
       "<matplotlib.figure.Figure at 0x7ffc612fce10>"
      ]
     },
     "metadata": {},
     "output_type": "display_data"
    }
   ],
   "source": [
    "binarized_results = np.vstack([corrected_results < 0.05 for corrected_results in corrected_results])\n",
    "\n",
    "sns.set_style(\"whitegrid\")\n",
    "sns.set_style({'axes.grid': False,\n",
    "               'font.family': [u'serif'],\n",
    "               'font.sans-serif': [u'Computer Modern Unicode'],})\n",
    "colours = ['turquoise', 'gold', 'firebrick', 'limegreen', 'darkorange', 'deepskyblue']\n",
    "\n",
    "plt.figure(figsize=(one_half_column/2, one_half_column), dpi=300)\n",
    "\n",
    "plt.subplot(2,1,1)\n",
    "for community in np.unique(community_affiliation):\n",
    "    plt.errorbar(x=range(0,len(df_woAge.columns[1:-3].values)),\n",
    "                y=df_long.groupby(['variable','groups']).mean().values[community-1::len(np.unique(community_affiliation)),3],\n",
    "                yerr=(df_long.groupby(['variable','groups']).std().values[community-1::len(np.unique(community_affiliation)),3]/np.sqrt(len(df_long.groupby(['variable','groups']).sum().values[community-1::len(np.unique(community_affiliation)),2]))),\n",
    "                color=colours[community-1])\n",
    "\n",
    "plt.xlim([-0.5,len(df_woAge.columns[1:-3].values)-0.5])\n",
    "plt.xticks(range(0,len(df_woAge.columns[1:-3].values)))\n",
    "plt.legend(['C' + str(community) for community in np.unique(community_affiliation) ], frameon=True, loc='best')\n",
    "plt.ylabel('z-score residuals')\n",
    "ax = plt.gca()\n",
    "ax.set_xticklabels('', rotation=90);\n",
    "ax.set_axis_bgcolor('white')\n",
    "ax.spines['top'].set_visible(False)\n",
    "ax.spines['right'].set_visible(False)\n",
    "ax.spines['bottom'].set_visible(False)\n",
    "ax.xaxis.set_ticks_position('bottom')\n",
    "ax.yaxis.set_ticks_position('left')\n",
    "\n",
    "plt.subplot(2,1,2)\n",
    "new_style = {'grid': False}\n",
    "matplotlib.rc('axes', **new_style)\n",
    "plt.imshow(binarized_results, \n",
    "          interpolation = 'none', \n",
    "          cmap=LinearSegmentedColormap.from_list('mycmap', [(0, 'lightgray'), (1, 'orangered')]))\n",
    "plt.yticks(np.arange(0,len(combinations)))\n",
    "plt.xticks(np.arange(0, len(np.unique(df_long['variable'].values))))\n",
    "plt.ylabel('contrast results')\n",
    "\n",
    "ax = plt.gca()\n",
    "ax.set_yticklabels([str(combination[0]) + ' v ' + str(combination[1]) for combination in combinations], rotation=0);\n",
    "ax.set_xticklabels(df_woAge.columns[1:-2].values, rotation=90);\n",
    "plt.tight_layout(pad=0, w_pad=0, h_pad=0)\n",
    "plt.savefig(outfolder + 'Sue_plot.png', dpi=300)"
   ]
  },
  {
   "cell_type": "markdown",
   "metadata": {},
   "source": [
    "### Robustness testing\n",
    "Here, the robustness of the community assignment is tested by adding increasing amounts of random Gaussian noise to the network matrix."
   ]
  },
  {
   "cell_type": "code",
   "execution_count": null,
   "metadata": {
    "collapsed": false
   },
   "outputs": [],
   "source": [
    "quality_indices = list()\n",
    "max_percent = 100\n",
    "\n",
    "for percentage in np.arange(0,max_percent,5):\n",
    "    network_wNoise = add_noise(network, percentage)\n",
    "    try:\n",
    "        community_affiliation,q = get_consensus_module_assignment(network_wNoise, 100)\n",
    "        quality_indices.append(q)\n",
    "    except:\n",
    "        quality_indices.append(float('nan'))"
   ]
  },
  {
   "cell_type": "code",
   "execution_count": null,
   "metadata": {
    "collapsed": false,
    "scrolled": true
   },
   "outputs": [],
   "source": [
    "plt.figure(figsize=(single_column, 82*mm2inches), dpi=300)\n",
    "plt.plot(np.arange(0,max_percent,5), np.nan_to_num(quality_indices), '-o', linewidth=3)\n",
    "plt.xticks(np.arange(0,max_percent,10))\n",
    "plt.xlabel('Added noise [\\%]')\n",
    "plt.ylim([0,1])\n",
    "plt.ylabel(r'Quality index [\\textit{Q}]')\n",
    "ax = plt.gca()\n",
    "ax.set_axis_bgcolor('white')\n",
    "ax.spines['top'].set_visible(False)\n",
    "ax.spines['right'].set_visible(False)\n",
    "ax.xaxis.set_ticks_position('bottom')\n",
    "ax.yaxis.set_ticks_position('left')\n",
    "plt.tight_layout(pad=1, w_pad=0, h_pad=0)\n",
    "plt.savefig('/imaging/jb07/CALM/Behavioural/Community_Detection/Added_noise.png', dpi=300)"
   ]
  },
  {
   "cell_type": "markdown",
   "metadata": {},
   "source": [
    "## Comparing severities on standardised scores"
   ]
  },
  {
   "cell_type": "markdown",
   "metadata": {},
   "source": [
    "The grouping in the community detection analysis was based on raw scores after regressing age. In order to determine if the groups are within clinical ranges according to the normative data of the questionnaire, the groups are compared on their T scores here"
   ]
  },
  {
   "cell_type": "code",
   "execution_count": 340,
   "metadata": {
    "collapsed": true
   },
   "outputs": [],
   "source": [
    "std_df = pd.read_csv(outfolder + 'CALM_behavioural_data_Apr17.csv')\n",
    "std_df = std_df[['ID No.',\n",
    "        'Conners_inattention_T',\n",
    "        'Conners_hyperactivity_impulsivity_T',\n",
    "        'Conners_learning_problems_T',\n",
    "        'Conners_ExecutiveFunction_T',\n",
    "        'Conners_agression_T',\n",
    "        'Conners_PeerRelations_T']]\n",
    "\n",
    "std_df.columns = ['ID',\n",
    "              'Inattention_T',\n",
    "              'HyperactImpuls_T',\n",
    "              'LearnProb_T',\n",
    "              'ExeFunc_T',\n",
    "              'Aggression_T',\n",
    "              'PeerRel_T']\n",
    "\n",
    "std_df = std_df.dropna()"
   ]
  },
  {
   "cell_type": "code",
   "execution_count": 341,
   "metadata": {
    "collapsed": false
   },
   "outputs": [
    {
     "name": "stderr",
     "output_type": "stream",
     "text": [
      "/home/jb07/python_modules/ipykernel/__main__.py:7: FutureWarning: convert_objects is deprecated.  Use the data-type specific converters pd.to_datetime, pd.to_timedelta and pd.to_numeric.\n"
     ]
    }
   ],
   "source": [
    "std_df = pd.merge(df_woAge, std_df, on='ID')\n",
    "std_df = std_df[['ID', 'groups', 'Inattention_T', 'HyperactImpuls_T', 'LearnProb_T', 'ExeFunc_T', 'Aggression_T', 'PeerRel_T']]\n",
    "std_df = std_df.replace({r\"[>=<]\":90}, regex=True)\n",
    "\n",
    "variables = std_df.columns[2:].values\n",
    "for variable in variables: \n",
    "    std_df[variable] = std_df[variable].astype(str).convert_objects(convert_numeric=True)"
   ]
  },
  {
   "cell_type": "code",
   "execution_count": 293,
   "metadata": {
    "collapsed": false
   },
   "outputs": [],
   "source": [
    "df_long = pd.melt(std_df, id_vars=['ID', 'groups'])\n",
    "df_long['variable'] = pd.Categorical(df_long['variable'].values, categories=std_df.columns[2:].values, ordered=True)"
   ]
  },
  {
   "cell_type": "code",
   "execution_count": 294,
   "metadata": {
    "collapsed": false
   },
   "outputs": [
    {
     "data": {
      "image/png": "[encoded data removed]",
      "text/plain": [
       "<matplotlib.figure.Figure at 0x7fce8f268390>"
      ]
     },
     "metadata": {},
     "output_type": "display_data"
    }
   ],
   "source": [
    "sns.set_style(\"whitegrid\")\n",
    "sns.set_style({'axes.grid': False,\n",
    "               'font.family': [u'serif'],\n",
    "               'font.sans-serif': [u'Computer Modern Unicode'],})\n",
    "colours = ['turquoise', 'gold', 'firebrick', 'limegreen', 'darkorange', 'deepskyblue']\n",
    "\n",
    "plt.figure(figsize=(one_half_column/2, one_half_column), dpi=300)\n",
    "\n",
    "plt.subplot(2,1,1)\n",
    "for community in np.unique(community_affiliation):\n",
    "    plt.errorbar(x=range(0,len(std_df.columns[2:].values)),\n",
    "                 y=std_df[std_df['groups'] == community].mean()[2:].values,\n",
    "                 yerr=std_df[std_df['groups'] == community].std()[2:].values/sqrt(len(std_df[std_df['groups'] == 1])),\n",
    "                 color=colours[community-1])\n",
    "\n",
    "plt.legend(['C' + str(community) for community in np.unique(community_affiliation) ], frameon=True, loc='best')\n",
    "\n",
    "plt.axhline(y=65, linewidth=1, color='k', linestyle='solid')\n",
    "plt.axhline(y=60, linewidth=1, color='k', linestyle='dashed')\n",
    "plt.xlim([-0.5,len(df_woAge.columns[1:-3].values)-0.5])\n",
    "plt.xticks(range(0,len(df_woAge.columns[1:-3].values)))\n",
    "plt.text(0, 65.5, 'highly elevated')\n",
    "plt.text(0, 60.5, 'elevated')\n",
    "plt.ylabel('age-standardised scores')\n",
    "ax = plt.gca()\n",
    "ax.set_xticklabels('', rotation=90);\n",
    "ax.set_axis_bgcolor('white')\n",
    "ax.spines['top'].set_visible(False)\n",
    "ax.spines['right'].set_visible(False)\n",
    "ax.spines['bottom'].set_visible(False)\n",
    "ax.xaxis.set_ticks_position('bottom')\n",
    "ax.yaxis.set_ticks_position('left')\n",
    "\n",
    "ax.set_xticklabels(df_woAge.columns[1:-2].values, rotation=90);\n",
    "plt.tight_layout(pad=0, w_pad=0, h_pad=0)"
   ]
  },
  {
   "cell_type": "code",
   "execution_count": 296,
   "metadata": {
    "collapsed": false
   },
   "outputs": [
    {
     "name": "stdout",
     "output_type": "stream",
     "text": [
      "Inattention\n",
      "Proportion: 386 (89)\n",
      "HyperactImpuls\n",
      "Proportion: 304 (70)\n",
      "LearnProb\n",
      "Proportion: 378 (87)\n",
      "ExeFunc\n",
      "Proportion: 352 (81)\n",
      "Aggression\n",
      "Proportion: 200 (46)\n",
      "PeerRel\n",
      "Proportion: 280 (65)\n"
     ]
    }
   ],
   "source": [
    "scales = ['Inattention', 'HyperactImpuls', 'LearnProb', 'ExeFunc', 'Aggression', 'PeerRel']\n",
    "\n",
    "for scale in scales:\n",
    "    mean = np.mean(std_df[scale + '_T'].values)\n",
    "    std = np.std(std_df[scale + '_T'].values)\n",
    "    number_elevated = np.sum(1*(std_df[scale + '_T'] > 60))\n",
    "    percent_elevated = 100*(float(number_elevated))/len(std_df[scale + '_T'])\n",
    "    \n",
    "    print(scale)\n",
    "    #print('mean=%.2f, std=%.3f' % (mean, std))\n",
    "    print('Proportion: %.i (%.i)' % (number_elevated, percent_elevated))"
   ]
  },
  {
   "cell_type": "markdown",
   "metadata": {},
   "source": [
    "## Comparing the groups on other questionnaires "
   ]
  },
  {
   "cell_type": "markdown",
   "metadata": {},
   "source": [
    "### SDQ"
   ]
  },
  {
   "cell_type": "code",
   "execution_count": 101,
   "metadata": {
    "collapsed": false
   },
   "outputs": [],
   "source": [
    "from sklearn.preprocessing import StandardScaler\n",
    "scaler = StandardScaler()\n",
    "\n",
    "group_df = pd.read_csv('/imaging/jb07/CALM/Behavioural/Community_Detection/Behavioural_data_grouped_Apr17.csv')\n",
    "SDQ_df = pd.read_csv(outfolder + 'CALM_behavioural_data_Jul16.csv')[['ID', 'SDQ_emotion', 'SDQ_conduct', 'SDQ_Hyperactivity', 'SDQ_Peerproblems', 'SDQ_prosocial']]\n",
    "\n",
    "merged_df = pd.merge(group_df, SDQ_df, on='ID').dropna()\n",
    "SDQ_measures = ['SDQ_emotion', 'SDQ_conduct', 'SDQ_Hyperactivity', 'SDQ_Peerproblems', 'SDQ_prosocial']\n",
    "merged_df[SDQ_measures] = scaler.fit_transform(merged_df[SDQ_measures])"
   ]
  },
  {
   "cell_type": "code",
   "execution_count": 102,
   "metadata": {
    "collapsed": false
   },
   "outputs": [],
   "source": [
    "results = pd.DataFrame()\n",
    "group_comparisons = [(1,2), (1,3), (2,3)]\n",
    "\n",
    "for SDQ_measure in SDQ_measures:\n",
    "    for group_comparison in group_comparisons:\n",
    "        t,p = ttest_ind(merged_df[merged_df['groups'] == group_comparison[0]][SDQ_measure].values.astype('int'), merged_df[merged_df['groups'] == group_comparison[1]][SDQ_measure].values.astype('int'))\n",
    "        results.set_value(SDQ_measure, str(group_comparison), p)"
   ]
  },
  {
   "cell_type": "code",
   "execution_count": 103,
   "metadata": {
    "collapsed": false
   },
   "outputs": [
    {
     "data": {
      "text/html": [
       "<div>\n",
       "<table border=\"1\" class=\"dataframe\">\n",
       "  <thead>\n",
       "    <tr style=\"text-align: right;\">\n",
       "      <th></th>\n",
       "      <th>(1, 2)</th>\n",
       "      <th>(1, 3)</th>\n",
       "      <th>(2, 3)</th>\n",
       "    </tr>\n",
       "  </thead>\n",
       "  <tbody>\n",
       "    <tr>\n",
       "      <th>SDQ_emotion</th>\n",
       "      <td>3.323332e-01</td>\n",
       "      <td>8.370145e-02</td>\n",
       "      <td>3.994006e-01</td>\n",
       "    </tr>\n",
       "    <tr>\n",
       "      <th>SDQ_conduct</th>\n",
       "      <td>2.471310e-05</td>\n",
       "      <td>2.250388e-03</td>\n",
       "      <td>1.545536e-09</td>\n",
       "    </tr>\n",
       "    <tr>\n",
       "      <th>SDQ_Hyperactivity</th>\n",
       "      <td>1.491391e-17</td>\n",
       "      <td>6.170580e-03</td>\n",
       "      <td>1.302104e-05</td>\n",
       "    </tr>\n",
       "    <tr>\n",
       "      <th>SDQ_Peerproblems</th>\n",
       "      <td>7.982813e-02</td>\n",
       "      <td>2.315679e-09</td>\n",
       "      <td>7.553105e-06</td>\n",
       "    </tr>\n",
       "    <tr>\n",
       "      <th>SDQ_prosocial</th>\n",
       "      <td>7.477013e-02</td>\n",
       "      <td>6.195557e-03</td>\n",
       "      <td>2.081478e-05</td>\n",
       "    </tr>\n",
       "  </tbody>\n",
       "</table>\n",
       "</div>"
      ],
      "text/plain": [
       "                         (1, 2)        (1, 3)        (2, 3)\n",
       "SDQ_emotion        3.323332e-01  8.370145e-02  3.994006e-01\n",
       "SDQ_conduct        2.471310e-05  2.250388e-03  1.545536e-09\n",
       "SDQ_Hyperactivity  1.491391e-17  6.170580e-03  1.302104e-05\n",
       "SDQ_Peerproblems   7.982813e-02  2.315679e-09  7.553105e-06\n",
       "SDQ_prosocial      7.477013e-02  6.195557e-03  2.081478e-05"
      ]
     },
     "execution_count": 103,
     "metadata": {},
     "output_type": "execute_result"
    }
   ],
   "source": [
    "results"
   ]
  },
  {
   "cell_type": "code",
   "execution_count": 104,
   "metadata": {
    "collapsed": false
   },
   "outputs": [],
   "source": [
    "rej, p, alphaSidak, alphaBonferroni = multipletests(results.values.flatten(), alpha=0.05, method='bonferroni')\n",
    "binarized_results = 1*(results.values < alphaBonferroni).transpose()"
   ]
  },
  {
   "cell_type": "code",
   "execution_count": 105,
   "metadata": {
    "collapsed": false,
    "scrolled": true
   },
   "outputs": [
    {
     "data": {
      "image/png": "[encoded data removed]",
      "text/plain": [
       "<matplotlib.figure.Figure at 0x7ffc5a8e6c10>"
      ]
     },
     "metadata": {},
     "output_type": "display_data"
    }
   ],
   "source": [
    "df = merged_df[np.hstack(['groups', SDQ_measures])]\n",
    "labels = ['Emo', 'Cond', 'Hyper', 'Peer', 'Prosoc']\n",
    "make_SuePlot(df, SDQ_measures, labels, single_column, 'SDQ')"
   ]
  },
  {
   "cell_type": "markdown",
   "metadata": {},
   "source": [
    "### BRIEF"
   ]
  },
  {
   "cell_type": "code",
   "execution_count": 347,
   "metadata": {
    "collapsed": false
   },
   "outputs": [],
   "source": [
    "from sklearn.preprocessing import StandardScaler\n",
    "scaler = StandardScaler()\n",
    "\n",
    "group_df = pd.read_csv('/imaging/jb07/CALM/Behavioural/Community_Detection/Behavioural_data_grouped_Jan17.csv')\n",
    "BRIEF_df = pd.read_csv(outfolder + 'CALM_behavioural_data_Jul16.csv')[['ID', 'Brief_Inhibit_raw', 'Brief_Shift_raw', 'Brief_Emotional_Control_raw', 'Brief_Initiate_raw', 'Brief_Working_Memory_raw', 'Brief_Planning_raw', 'Brief_Organisation_raw', 'Brief_Monitor_raw']]\n",
    "\n",
    "merged_df = pd.merge(group_df, BRIEF_df, on='ID').dropna()\n",
    "BRIEF_measures = ['Brief_Inhibit_raw', 'Brief_Shift_raw', 'Brief_Emotional_Control_raw', 'Brief_Initiate_raw', 'Brief_Working_Memory_raw', 'Brief_Planning_raw', 'Brief_Organisation_raw', 'Brief_Monitor_raw']\n",
    "merged_df[BRIEF_measures] = scaler.fit_transform(merged_df[BRIEF_measures])"
   ]
  },
  {
   "cell_type": "code",
   "execution_count": 348,
   "metadata": {
    "collapsed": true
   },
   "outputs": [],
   "source": [
    "results = pd.DataFrame()\n",
    "group_comparisons = [(1,2), (1,3), (2,3)]\n",
    "\n",
    "for BRIEF_measure in BRIEF_measures:\n",
    "    for group_comparison in group_comparisons:\n",
    "        t,p = ttest_ind(merged_df[merged_df['groups'] == group_comparison[0]][BRIEF_measure].values.astype('int'), merged_df[merged_df['groups'] == group_comparison[1]][BRIEF_measure].values.astype('int'))\n",
    "        results.set_value(BRIEF_measure, str(group_comparison), p)"
   ]
  },
  {
   "cell_type": "code",
   "execution_count": 349,
   "metadata": {
    "collapsed": false
   },
   "outputs": [
    {
     "data": {
      "text/html": [
       "<div>\n",
       "<table border=\"1\" class=\"dataframe\">\n",
       "  <thead>\n",
       "    <tr style=\"text-align: right;\">\n",
       "      <th></th>\n",
       "      <th>(1, 2)</th>\n",
       "      <th>(1, 3)</th>\n",
       "      <th>(2, 3)</th>\n",
       "    </tr>\n",
       "  </thead>\n",
       "  <tbody>\n",
       "    <tr>\n",
       "      <th>Brief_Inhibit_raw</th>\n",
       "      <td>0.000003</td>\n",
       "      <td>0.130197</td>\n",
       "      <td>7.297262e-09</td>\n",
       "    </tr>\n",
       "    <tr>\n",
       "      <th>Brief_Shift_raw</th>\n",
       "      <td>0.842705</td>\n",
       "      <td>0.035655</td>\n",
       "      <td>1.806073e-02</td>\n",
       "    </tr>\n",
       "    <tr>\n",
       "      <th>Brief_Emotional_Control_raw</th>\n",
       "      <td>0.221073</td>\n",
       "      <td>0.001116</td>\n",
       "      <td>8.809389e-06</td>\n",
       "    </tr>\n",
       "    <tr>\n",
       "      <th>Brief_Initiate_raw</th>\n",
       "      <td>0.289084</td>\n",
       "      <td>0.585704</td>\n",
       "      <td>1.552493e-01</td>\n",
       "    </tr>\n",
       "    <tr>\n",
       "      <th>Brief_Working_Memory_raw</th>\n",
       "      <td>0.000975</td>\n",
       "      <td>0.000106</td>\n",
       "      <td>2.737064e-01</td>\n",
       "    </tr>\n",
       "    <tr>\n",
       "      <th>Brief_Planning_raw</th>\n",
       "      <td>0.008165</td>\n",
       "      <td>0.132261</td>\n",
       "      <td>3.676987e-01</td>\n",
       "    </tr>\n",
       "    <tr>\n",
       "      <th>Brief_Organisation_raw</th>\n",
       "      <td>0.000003</td>\n",
       "      <td>0.017534</td>\n",
       "      <td>4.702048e-02</td>\n",
       "    </tr>\n",
       "    <tr>\n",
       "      <th>Brief_Monitor_raw</th>\n",
       "      <td>0.000287</td>\n",
       "      <td>0.853976</td>\n",
       "      <td>1.386454e-03</td>\n",
       "    </tr>\n",
       "  </tbody>\n",
       "</table>\n",
       "</div>"
      ],
      "text/plain": [
       "                               (1, 2)    (1, 3)        (2, 3)\n",
       "Brief_Inhibit_raw            0.000003  0.130197  7.297262e-09\n",
       "Brief_Shift_raw              0.842705  0.035655  1.806073e-02\n",
       "Brief_Emotional_Control_raw  0.221073  0.001116  8.809389e-06\n",
       "Brief_Initiate_raw           0.289084  0.585704  1.552493e-01\n",
       "Brief_Working_Memory_raw     0.000975  0.000106  2.737064e-01\n",
       "Brief_Planning_raw           0.008165  0.132261  3.676987e-01\n",
       "Brief_Organisation_raw       0.000003  0.017534  4.702048e-02\n",
       "Brief_Monitor_raw            0.000287  0.853976  1.386454e-03"
      ]
     },
     "execution_count": 349,
     "metadata": {},
     "output_type": "execute_result"
    }
   ],
   "source": [
    "results"
   ]
  },
  {
   "cell_type": "code",
   "execution_count": 350,
   "metadata": {
    "collapsed": false
   },
   "outputs": [],
   "source": [
    "rej, p, alphaSidak, alphaBonferroni = multipletests(results.values.flatten(), alpha=0.05, method='bonferroni')\n",
    "binarized_results = 1*(results.values < alphaBonferroni).transpose()"
   ]
  },
  {
   "cell_type": "code",
   "execution_count": 351,
   "metadata": {
    "collapsed": false
   },
   "outputs": [
    {
     "data": {
      "image/png": "[encoded data removed]",
      "text/plain": [
       "<matplotlib.figure.Figure at 0x7fce8f30fa10>"
      ]
     },
     "metadata": {},
     "output_type": "display_data"
    }
   ],
   "source": [
    "df = merged_df[np.hstack(['groups', BRIEF_measures])]\n",
    "labels = ['Inh', 'Shift', 'EmotCont', 'Init', 'WM', 'Plan', 'Org', 'Monit']\n",
    "make_SuePlot(df, BRIEF_measures, labels, single_column, 'BRIEF')"
   ]
  },
  {
   "cell_type": "markdown",
   "metadata": {},
   "source": [
    "## Characterising performance IQ in the whole sample"
   ]
  },
  {
   "cell_type": "code",
   "execution_count": 184,
   "metadata": {
    "collapsed": false
   },
   "outputs": [],
   "source": [
    "group_df = pd.read_csv('/imaging/jb07/CALM/Behavioural/Community_Detection/Behavioural_data_grouped_Apr17.csv')\n",
    "IQ_df = pd.read_csv(outfolder + 'CALM_behavioural_data_Apr17.csv')[['ID No.', 'Matrix_Reasoning_T']]\n",
    "IQ_df.columns = ['ID', 'Matrix_Reasoning_T']\n",
    "merged_df = pd.merge(group_df, IQ_df, on='ID').dropna()"
   ]
  },
  {
   "cell_type": "code",
   "execution_count": 186,
   "metadata": {
    "collapsed": false
   },
   "outputs": [
    {
     "data": {
      "text/plain": [
       "(432, 14)"
      ]
     },
     "execution_count": 186,
     "metadata": {},
     "output_type": "execute_result"
    }
   ],
   "source": [
    "merged_df.shape"
   ]
  },
  {
   "cell_type": "code",
   "execution_count": 185,
   "metadata": {
    "collapsed": false
   },
   "outputs": [
    {
     "name": "stdout",
     "output_type": "stream",
     "text": [
      "Matrix Reasoning: mean=42.68, std=9.282\n"
     ]
    }
   ],
   "source": [
    "mean = np.mean(merged_df['Matrix_Reasoning_T'])\n",
    "std = np.std(merged_df['Matrix_Reasoning_T'])\n",
    "print('Matrix Reasoning: mean=%.2f, std=%.3f' % (mean, std))"
   ]
  },
  {
   "cell_type": "code",
   "execution_count": 187,
   "metadata": {
    "collapsed": false
   },
   "outputs": [
    {
     "name": "stdout",
     "output_type": "stream",
     "text": [
      "Low range= 173.00 (0.40)\n"
     ]
    }
   ],
   "source": [
    "total = np.sum(1*(merged_df['Matrix_Reasoning_T'] < 40))\n",
    "percentage = float(total)/len(merged_df['Matrix_Reasoning_T'])\n",
    "print('Low range= %.2f (%.2f)' % (total, percentage))"
   ]
  },
  {
   "cell_type": "markdown",
   "metadata": {
    "collapsed": true
   },
   "source": [
    "## Comparing diagnoses between groups"
   ]
  },
  {
   "cell_type": "code",
   "execution_count": 50,
   "metadata": {
    "collapsed": false
   },
   "outputs": [],
   "source": [
    "diag_df = pd.read_csv(outfolder + 'CALM_behavioural_data_Apr17.csv')\n",
    "diag_df = diag_df[['ID No.','Diagnosis']]\n",
    "diag_df.columns = ['ID', 'Diagnosis']\n",
    "diag_df = diag_df.dropna()\n",
    "diag_df = pd.merge(df_woAge, diag_df, on='ID')"
   ]
  },
  {
   "cell_type": "code",
   "execution_count": 51,
   "metadata": {
    "collapsed": false
   },
   "outputs": [],
   "source": [
    "diagnostic_label = list()\n",
    "\n",
    "for entry in diag_df['Diagnosis'].values:\n",
    "    if entry in (2, 3, 22, 26, 27, 27, 28, 29, 30, 31, 34, 35):\n",
    "        diagnostic_label.append('ADD/ADHD')\n",
    "    elif entry in (4,6, 21):\n",
    "        diagnostic_label.append('Anxiety/Depression')\n",
    "    elif entry in (7, 8, 9, 10, 11, 12, 13, 14, 15):\n",
    "        diagnostic_label.append('Learning Deficit')\n",
    "    elif entry in (24,25,24,23,20):\n",
    "        diagnostic_label.append('ASD')\n",
    "    elif entry in (3, 32):\n",
    "        diagnostic_label.append('OCD')\n",
    "    elif entry in (float(nan), 0):\n",
    "        diagnostic_label.append('None')\n",
    "    else:\n",
    "        diagnostic_label.append('Other')\n",
    "\n",
    "diag_df['Label'] = diagnostic_label"
   ]
  },
  {
   "cell_type": "code",
   "execution_count": 52,
   "metadata": {
    "collapsed": false
   },
   "outputs": [],
   "source": [
    "diagnosis_breakdown = pd.DataFrame(diag_df['Label'].value_counts())\n",
    "diagnosis_breakdown['Percentage'] = 100*(diagnosis_breakdown['Label'].values.astype('float')/390)"
   ]
  },
  {
   "cell_type": "code",
   "execution_count": 53,
   "metadata": {
    "collapsed": false,
    "scrolled": true
   },
   "outputs": [
    {
     "data": {
      "text/html": [
       "<div>\n",
       "<table border=\"1\" class=\"dataframe\">\n",
       "  <thead>\n",
       "    <tr style=\"text-align: right;\">\n",
       "      <th></th>\n",
       "      <th>Label</th>\n",
       "      <th>Percentage</th>\n",
       "    </tr>\n",
       "  </thead>\n",
       "  <tbody>\n",
       "    <tr>\n",
       "      <th>None</th>\n",
       "      <td>284</td>\n",
       "      <td>72.820513</td>\n",
       "    </tr>\n",
       "    <tr>\n",
       "      <th>ADD/ADHD</th>\n",
       "      <td>58</td>\n",
       "      <td>14.871795</td>\n",
       "    </tr>\n",
       "    <tr>\n",
       "      <th>Learning Deficit</th>\n",
       "      <td>32</td>\n",
       "      <td>8.205128</td>\n",
       "    </tr>\n",
       "    <tr>\n",
       "      <th>Other</th>\n",
       "      <td>23</td>\n",
       "      <td>5.897436</td>\n",
       "    </tr>\n",
       "    <tr>\n",
       "      <th>ASD</th>\n",
       "      <td>20</td>\n",
       "      <td>5.128205</td>\n",
       "    </tr>\n",
       "    <tr>\n",
       "      <th>Anxiety/Depression</th>\n",
       "      <td>1</td>\n",
       "      <td>0.256410</td>\n",
       "    </tr>\n",
       "    <tr>\n",
       "      <th>OCD</th>\n",
       "      <td>1</td>\n",
       "      <td>0.256410</td>\n",
       "    </tr>\n",
       "  </tbody>\n",
       "</table>\n",
       "</div>"
      ],
      "text/plain": [
       "                    Label  Percentage\n",
       "None                  284   72.820513\n",
       "ADD/ADHD               58   14.871795\n",
       "Learning Deficit       32    8.205128\n",
       "Other                  23    5.897436\n",
       "ASD                    20    5.128205\n",
       "Anxiety/Depression      1    0.256410\n",
       "OCD                     1    0.256410"
      ]
     },
     "execution_count": 53,
     "metadata": {},
     "output_type": "execute_result"
    }
   ],
   "source": [
    "diagnosis_breakdown"
   ]
  },
  {
   "cell_type": "markdown",
   "metadata": {},
   "source": [
    "### Comparing frequency of diagnoses between groups"
   ]
  },
  {
   "cell_type": "code",
   "execution_count": 54,
   "metadata": {
    "collapsed": false,
    "scrolled": true
   },
   "outputs": [],
   "source": [
    "group_counts = np.asarray(diag_df.groupby('groups')['Label'].value_counts().tolist())"
   ]
  },
  {
   "cell_type": "code",
   "execution_count": 55,
   "metadata": {
    "collapsed": false
   },
   "outputs": [
    {
     "name": "stdout",
     "output_type": "stream",
     "text": [
      "ADD/ADHD\n",
      "$X^2$(3,354)=41.38, $p$=0.000\n",
      "ASD\n",
      "$X^2$(3,354)=3.40, $p$=0.183\n",
      "Anxiety/Depression\n",
      "$X^2$(3,354)=0.93, $p$=0.629\n",
      "Learning Deficit\n",
      "$X^2$(3,354)=1.39, $p$=0.499\n"
     ]
    }
   ],
   "source": [
    "for i in np.arange(0, len(np.unique(diag_df['Label'].values))-3):\n",
    "    observed_values = group_counts[np.arange(i, len(group_counts)-1, len(np.unique(diag_df['Label'].values))-1)]\n",
    "    predicted_values = np.repeat(float(np.sum(observed_values))/len(np.unique(diag_df['groups'].values)), len(np.unique(diag_df['groups'].values)))\n",
    "    chisq, p = chisquare(observed_values, predicted_values)\n",
    "    print(np.unique(diag_df['Label'])[i])\n",
    "    print('$X^2$(%i,%i)=%.2f, $p$=%.3f' % (len(np.unique(diag_df['groups'])), 354, chisq, p))"
   ]
  },
  {
   "cell_type": "code",
   "execution_count": 67,
   "metadata": {
    "collapsed": false
   },
   "outputs": [
    {
     "data": {
      "text/plain": [
       "groups  Label             \n",
       "1       None                   93\n",
       "        ADD/ADHD               20\n",
       "        Learning Deficit       11\n",
       "        ASD                     9\n",
       "        Other                   6\n",
       "        Anxiety/Depression      1\n",
       "2       None                  100\n",
       "        Other                  12\n",
       "        Learning Deficit       10\n",
       "        ADD/ADHD                9\n",
       "        ASD                     4\n",
       "3       None                   91\n",
       "        ADD/ADHD               29\n",
       "        Learning Deficit       11\n",
       "        ASD                     7\n",
       "        Other                   5\n",
       "        OCD                     1\n",
       "dtype: int64"
      ]
     },
     "execution_count": 67,
     "metadata": {},
     "output_type": "execute_result"
    }
   ],
   "source": [
    "diag_df.groupby('groups')['Label'].value_counts()"
   ]
  },
  {
   "cell_type": "markdown",
   "metadata": {},
   "source": [
    "#### "
   ]
  }
 ],
 "metadata": {
  "kernelspec": {
   "display_name": "Python 2",
   "language": "python",
   "name": "python2"
  },
  "language_info": {
   "codemirror_mode": {
    "name": "ipython",
    "version": 2
   },
   "file_extension": ".py",
   "mimetype": "text/x-python",
   "name": "python",
   "nbconvert_exporter": "python",
   "pygments_lexer": "ipython2",
   "version": "2.7.12"
  }
 },
 "nbformat": 4,
 "nbformat_minor": 0
}
